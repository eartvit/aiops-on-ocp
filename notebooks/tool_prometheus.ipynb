{
 "cells": [
  {
   "cell_type": "code",
   "execution_count": 3,
   "id": "f2ae909a-4d0a-43bd-a62e-cf0b927ee688",
   "metadata": {},
   "outputs": [],
   "source": [
    "from pydantic import BaseModel, Field\n",
    "from langchain.tools import Tool\n",
    "from typing import List, Optional\n",
    "\n",
    "from datetime import datetime, timedelta\n",
    "from dateutil.relativedelta import relativedelta\n",
    "import pytz\n",
    "\n",
    "import json\n",
    "\n",
    "from prometheus_api_client import PrometheusConnect, MetricRangeDataFrame"
   ]
  },
  {
   "cell_type": "code",
   "execution_count": 10,
   "id": "4912aee8-a308-4a46-aaac-0cf9da47f242",
   "metadata": {
    "tags": []
   },
   "outputs": [],
   "source": [
    "import matplotlib.pyplot as plt\n",
    "import numpy as np\n",
    "import io\n",
    "import base64"
   ]
  },
  {
   "cell_type": "code",
   "execution_count": 2,
   "id": "4eb29915-50d4-4389-95f2-d3ef96d24c66",
   "metadata": {},
   "outputs": [],
   "source": [
    "class MetricValue(BaseModel):\n",
    "    \"\"\"Prometheus metric detail information object\"\"\"\n",
    "    metric_value: float = Field(description=\"The value of the metric\")\n",
    "    timestamp: float = Field(description=\"The timestamp information associated with the metric value\")\n",
    "\n",
    "\n",
    "class MetricsResponse(BaseModel):\n",
    "    \"\"\"Prometheus metric response information object\"\"\"\n",
    "    metric_name: str = Field(description=\"The name of the metric\")\n",
    "    metric_service_name: Optional[str] = Field(default=None, description=\"The service name associated with the metric\")\n",
    "    metric_namespace: Optional[str] = Field(default=None, description=\"The namespace name associated with the metric\")\n",
    "    metric_instance: Optional[str] = Field(default=None, description=\"The service name associated with the metric\")\n",
    "    metric_job_name: Optional[str] = Field(default=None, description=\"The job name associated with the metric\")\n",
    "    metric_pod_name: Optional[str] = Field(default=None, description=\"The pod name associated with the metric\")\n",
    "    metric_values: Optional[List[MetricValue]] = Field(default=None, description=\"The list of the metric value objects associated with the metric response\")\n",
    "\n",
    "\n",
    "class Metrics(BaseModel):\n",
    "    \"\"\"Filtered metrics information\"\"\"\n",
    "    filter_name: str = Field(description=\"The name of the filter used to obtain the list of metric responses\")\n",
    "    filter_value: str = Field(description=\"The value of the filter used to obtain the list of metric responses\")\n",
    "    metrics: Optional[List[MetricsResponse]] = Field(default=[], description=\"The list of metric response objects\")"
   ]
  },
  {
   "cell_type": "code",
   "execution_count": 3,
   "id": "bf538906-f07e-45a3-8bee-a485e00ae754",
   "metadata": {},
   "outputs": [],
   "source": [
    "class DateTimeValue(BaseModel):\n",
    "    \"\"\"Date Time Information Object\"\"\"\n",
    "    timestamp: float = Field(description=\"The timestamp information associate with a date time\")\n",
    "    date_time_iso_format_string: str = Field(description=\"The ISO formatted string of the date time\")\n",
    "    timezone: str = Field(description=\"The timezone string information associated with the date time\")"
   ]
  },
  {
   "cell_type": "code",
   "execution_count": null,
   "id": "e7844ea0-288b-4fd6-b229-f0724a83d1a2",
   "metadata": {},
   "outputs": [],
   "source": [
    "class ToolsInputSchema(BaseModel):\n",
    "    input_parameters: str = Field(description=\"The input parameters as a dictionary that uses double quotes for the parameter names. Do NOT enclose the dictionary in any additional quotes.\")"
   ]
  },
  {
   "cell_type": "code",
   "execution_count": null,
   "id": "a44ea467-f659-4cba-9ea7-32517174f07d",
   "metadata": {},
   "outputs": [],
   "source": [
    "# class PrometheusPlotInstruction(BaseModel):\n",
    "#    input_parameters: str = Field(description=\"The input parameters as a dictionary that uses double quotes for the parameter names. Do NOT enclose the dictionary in any additional quotes.\")\n",
    "#    return_direct: bool = Field(description=\"Whether the result should be directly returned to the user without you seeing what it is.\",\n",
    "#                            default=True)"
   ]
  },
  {
   "cell_type": "code",
   "execution_count": 8,
   "id": "d4ff0ddb-3ff1-4208-b6ea-ed40e8687c38",
   "metadata": {
    "tags": []
   },
   "outputs": [],
   "source": [
    "class MetricPlot(BaseModel):\n",
    "    plot_base64: str = Field(description=\"The base64 string representation of the image plot\")"
   ]
  },
  {
   "cell_type": "code",
   "execution_count": 124,
   "id": "b2553256-b0a8-466f-87b6-a54ad884c435",
   "metadata": {
    "tags": []
   },
   "outputs": [],
   "source": [
    "class MetricPlotFile(BaseModel):\n",
    "    file_name: str = Field(description=\"The image plot file name\")"
   ]
  },
  {
   "cell_type": "code",
   "execution_count": 6,
   "id": "28c62695-385f-414c-96c9-77073db39a6f",
   "metadata": {},
   "outputs": [],
   "source": [
    "def get_timestamp(time_request: str) -> DateTimeValue:\n",
    "    tz = pytz.timezone('America/New_York')\n",
    "    now = datetime.now(tz)\n",
    "    # print(type(time_request))\n",
    "    # print(f\"{time_request}\")\n",
    "\n",
    "    t_request = json.loads(time_request)\n",
    "\n",
    "    value = t_request['time_value']\n",
    "\n",
    "    if isinstance(value, str) and value == \"now\":\n",
    "        dt = now\n",
    "    else:\n",
    "        unit = t_request['time_metric']\n",
    "        ago_flag = t_request['ago_flag']\n",
    "        # Ensure we have an integer\n",
    "        value = int(value)\n",
    "        dt = now\n",
    "        if ago_flag == 1:\n",
    "            value = value*(-1)\n",
    "\n",
    "        if unit == \"seconds\":\n",
    "            dt += timedelta(seconds=value)\n",
    "        elif unit == \"minutes\":\n",
    "            dt += timedelta(minutes=value)\n",
    "        elif unit == \"hours\":\n",
    "            dt += timedelta(hours=value)\n",
    "        elif unit == \"days\":\n",
    "            dt += timedelta(days=value)\n",
    "        elif unit == \"weeks\":\n",
    "            dt += timedelta(weeks=value)\n",
    "        elif unit == \"months\":\n",
    "            dt += relativedelta(months=value)\n",
    "        elif unit == \"years\":\n",
    "            dt += relativedelta(years=value)\n",
    "        else:\n",
    "            raise ValueError(f\"Unknown time unit: {unit}\")\n",
    "\n",
    "    timestamp = dt.timestamp()\n",
    "    datetime_str = dt.isoformat()\n",
    "\n",
    "    date_time = DateTimeValue(timestamp=timestamp,\n",
    "                              date_time_iso_format_string=datetime_str,\n",
    "                              timezone=str(tz))\n",
    "\n",
    "    return date_time"
   ]
  },
  {
   "cell_type": "code",
   "execution_count": 7,
   "id": "f8295243-f064-4f7c-8313-3532fabc1d3c",
   "metadata": {},
   "outputs": [],
   "source": [
    "def query_prometheus_metrics(input_parameters: str) -> Metrics:\n",
    "    # print(type(input_parameters))\n",
    "    # print(f\"{input_parameters}\")\n",
    "    input_params = json.loads(input_parameters)\n",
    "    prom_service_name = input_params['prom_service']\n",
    "    prom_namespace = input_params['prom_namespace']\n",
    "    prom_port = input_params['prom_port']\n",
    "    query_target_name = input_params['query_target_name']\n",
    "    query_target_value = input_params['query_target_value']\n",
    "\n",
    "    try:\n",
    "        prometheus_url = f\"http://{prom_service_name}.{prom_namespace}.svc.cluster.local:{prom_port}\"\n",
    "\n",
    "        # Connect to Prometheus\n",
    "        prom = PrometheusConnect(url=prometheus_url, disable_ssl=True)\n",
    "        print(\"Connected to Prometheus\")\n",
    "\n",
    "        metrics: List[MetricsResponse] = []\n",
    "\n",
    "        # Define the query to get all metrics for the target namespace\n",
    "        query = f'{{{query_target_name}=\"{query_target_value}\"}}'\n",
    "        all_metrics = prom.all_metrics(query)\n",
    "        print(f\"All metrics:{all_metrics}\")\n",
    "        for item in all_metrics:\n",
    "            metric_response = MetricsResponse(metric_name=item)\n",
    "            metrics.append(metric_response)\n",
    "\n",
    "        return Metrics(filter_name=query_target_name, \n",
    "                       filter_value=query_target_value, metrics=metrics)\n",
    "\n",
    "    except Exception as e:\n",
    "        print(f\"Exception when fetching metrics: {e}\")\n",
    "        return Metrics(filter_name=query_target_name,\n",
    "                       filter_value=query_target_value, metrics=[])"
   ]
  },
  {
   "cell_type": "code",
   "execution_count": 8,
   "id": "2024934a-4145-47ad-b2da-e2f96e7fd4ad",
   "metadata": {},
   "outputs": [],
   "source": [
    "def get_prometheus_metric_data_range(input_parameters: str\n",
    "                                     ) -> Metrics:\n",
    "    metric_response_list: List[MetricsResponse] = []\n",
    "    # print(type(input_parameters))\n",
    "    # print(f\"{input_parameters}\")\n",
    "\n",
    "    input_params = json.loads(input_parameters)\n",
    "    prom_service_name = input_params['prom_service']\n",
    "    prom_namespace = input_params['prom_namespace']\n",
    "    prom_port = input_params['prom_port']\n",
    "    metric_name = input_params['metric_name']\n",
    "    metric_range_start = float(input_params['metric_range_start'])\n",
    "    metric_range_end = float(input_params['metric_range_end'])\n",
    "    try:\n",
    "        prometheus_url = f\"http://{prom_service_name}.{prom_namespace}.svc.cluster.local:{prom_port}\"\n",
    "\n",
    "        # Connect to Prometheus\n",
    "        prom = PrometheusConnect(url=prometheus_url, disable_ssl=True)\n",
    "\n",
    "        range_data = prom.get_metric_range_data(metric_name,\n",
    "                                                start_time=datetime.fromtimestamp(metric_range_start),\n",
    "                                                end_time=datetime.fromtimestamp(metric_range_end),\n",
    "                                                )\n",
    "        for item in range_data:\n",
    "            metric_values: List[MetricValue] = []\n",
    "            for item_value in item['values']:\n",
    "                metric_value = MetricValue(timestamp=item_value[0],\n",
    "                                           metric_value=item_value[1])\n",
    "                metric_values.append(metric_value)\n",
    "            metrics_response = MetricsResponse(metric_name=item['metric']['__name__'],\n",
    "                                               metric_service=item['metric']['service'],\n",
    "                                               metric_namespace=item['metric']['namespace'],\n",
    "                                               metric_instance=item['metric']['instance'],\n",
    "                                               metric_job_name=item['metric']['job'],\n",
    "                                               metric_pod_name=item['metric']['pod'],\n",
    "                                               metric_values=metric_values)\n",
    "            metric_response_list.append(metrics_response)\n",
    "\n",
    "        return Metrics(filter_name=\"namespace\", filter_value=str(prom_namespace), metrics=metric_response_list)\n",
    "    except Exception as e:\n",
    "        print(f\"Exception when fetching metric range data: {e}\")\n",
    "        return Metrics(filter_name=\"namespace\", filter_value=str(prom_namespace), metrics=metric_response_list)"
   ]
  },
  {
   "cell_type": "code",
   "execution_count": 103,
   "id": "7f2eb522-bfe5-43c6-add1-85e8a2842757",
   "metadata": {
    "tags": []
   },
   "outputs": [],
   "source": [
    "def plot_prometheus_metric_data_range_as_file(input_parameters: str) -> MetricPlotFile:\n",
    "    # print(type(input_parameters))\n",
    "    # print(f\"{input_parameters}\")\n",
    "\n",
    "    input_params = json.loads(input_parameters)\n",
    "    prom_service_name = input_params['prom_service']\n",
    "    prom_namespace = input_params['prom_namespace']\n",
    "    prom_port = input_params['prom_port']\n",
    "    metric_name = input_params['metric_name']\n",
    "    metric_range_start = float(input_params['metric_range_start'])\n",
    "    metric_range_end = float(input_params['metric_range_end'])\n",
    "    # resample_rate = input_params['resample_rate']\n",
    "    try:\n",
    "        prometheus_url = f\"http://{prom_service_name}.{prom_namespace}.svc.cluster.local:{prom_port}\"\n",
    "        # Connect to Prometheus\n",
    "        prom = PrometheusConnect(url=prometheus_url, disable_ssl=True)\n",
    "        # print(\"Connected to Prometheus\")\n",
    "\n",
    "        range_data = prom.get_metric_range_data(metric_name,\n",
    "                                                start_time=datetime.fromtimestamp(metric_range_start),\n",
    "                                                end_time=datetime.fromtimestamp(metric_range_end),\n",
    "                                                )\n",
    "        # print(\"Got ranged data\")\n",
    "        file_name = \"\"\n",
    "        if (len(range_data) > 0):\n",
    "            # Transform the data\n",
    "            metric_df = MetricRangeDataFrame(range_data)\n",
    "            metric_df = metric_df.resample('5s').ffill()\n",
    "            metric_df[\"instantaneous_rate\"] = metric_df[\"value\"].diff() / metric_df.index.to_series().diff().dt.total_seconds()\n",
    "            metric_df.fillna(0, inplace=True)\n",
    "            metric_df['instantaneous_rate'] = metric_df['instantaneous_rate'].apply(lambda x : x if x > 0 else 0)\n",
    "\n",
    "            # print(\"Got metric_df calculations\")\n",
    "            # Plot the irate values\n",
    "            plt.figure(figsize=(10, 6))\n",
    "            plt.plot(metric_df['instantaneous_rate'], label='irate')\n",
    "            plt.xlabel('Time')\n",
    "            plt.ylabel('Rate')\n",
    "            plt.title(f'IRate of {metric_name}')\n",
    "            plt.legend()\n",
    "            plt.grid(True)\n",
    "            # print(\"Got plot\")\n",
    "\n",
    "            file_name = f\"FILE-plot-{metric_name}-{int(metric_range_start)}-{int(metric_range_end)}.png\"\n",
    "            plt.savefig(file_name, format='png')\n",
    "            plt.close()\n",
    "            # print(\"Saved image\")\n",
    "\n",
    "        else:\n",
    "            # print(\"No data found!\")\n",
    "            plt.figure(figsize=(10, 6))\n",
    "            plt.xlabel('Time')\n",
    "            plt.ylabel('Rate')\n",
    "            plt.title(f'IRate of {metric_name}')\n",
    "            plt.grid(True)\n",
    "            # print(\"Got empty plot\")\n",
    "\n",
    "            file_name = f\"FILE-plot-{metric_name}-{int(metric_range_start)}-{int(metric_range_end)}.png\"\n",
    "            plt.savefig(file_name, format='png')\n",
    "            plt.close()\n",
    "            # print(\"Saved image\")\n",
    "\n",
    "        return MetricPlotFile(file_name=file_name)\n",
    "    except Exception as e:\n",
    "        print(f\"Exception when plotting metric range data: {e}\")\n",
    "        return MetricPlotFile(file_name=\"\")"
   ]
  },
  {
   "cell_type": "code",
   "execution_count": null,
   "id": "4b4dc733-3c97-470a-abdb-4bb8b2e2e8ed",
   "metadata": {},
   "outputs": [],
   "source": [
    "def plot_prometheus_metric_data_range(input_parameters: str) -> MetricPlot:\n",
    "    # print(type(input_parameters))\n",
    "    # print(f\"{input_parameters}\")\n",
    "\n",
    "    input_params = json.loads(input_parameters)\n",
    "    prom_service_name = input_params['prom_service']\n",
    "    prom_namespace = input_params['prom_namespace']\n",
    "    prom_port = input_params['prom_port']\n",
    "    metric_name = input_params['metric_name']\n",
    "    metric_range_start = float(input_params['metric_range_start'])\n",
    "    metric_range_end = float(input_params['metric_range_end'])\n",
    "    # resample_rate = input_params['resample_rate']\n",
    "    try:\n",
    "        prometheus_url = f\"http://{prom_service_name}.{prom_namespace}.svc.cluster.local:{prom_port}\"\n",
    "        # Connect to Prometheus\n",
    "        prom = PrometheusConnect(url=prometheus_url, disable_ssl=True)\n",
    "        # print(\"Connected to Prometheus\")\n",
    "\n",
    "        range_data = prom.get_metric_range_data(metric_name,\n",
    "                                                start_time=datetime.fromtimestamp(metric_range_start),\n",
    "                                                end_time=datetime.fromtimestamp(metric_range_end),\n",
    "                                                )\n",
    "        # print(\"Got ranged data\")\n",
    "        plot_base64 = \"\"\n",
    "        if (len(range_data) > 0):\n",
    "            # Transform the data\n",
    "            metric_df = MetricRangeDataFrame(range_data)\n",
    "            metric_df = metric_df.resample('5s').ffill()\n",
    "            metric_df[\"instantaneous_rate\"] = metric_df[\"value\"].diff() / metric_df.index.to_series().diff().dt.total_seconds()\n",
    "            metric_df.fillna(0, inplace=True)\n",
    "            metric_df['instantaneous_rate'] = metric_df['instantaneous_rate'].apply(lambda x : x if x > 0 else 0)\n",
    "\n",
    "            # print(\"Got metric_df calculations\")\n",
    "            # Plot the irate values\n",
    "            plt.figure(figsize=(10, 6))\n",
    "            plt.plot(metric_df['instantaneous_rate'], label='irate')\n",
    "            plt.xlabel('Time')\n",
    "            plt.ylabel('Rate')\n",
    "            plt.title(f'IRate of {metric_name}')\n",
    "            plt.legend()\n",
    "            plt.grid(True)\n",
    "            # print(\"Got plot\")\n",
    "\n",
    "            # Save the plot to a BytesIO object\n",
    "            buf = io.BytesIO()\n",
    "            plt.savefig(buf, format='png')\n",
    "            buf.seek(0)\n",
    "            plt.close()\n",
    "            # print(\"Transformed image\")\n",
    "\n",
    "            # Encode the plot as a base64 string\n",
    "            plot_base64 = base64.b64encode(buf.read()).decode('utf-8')\n",
    "            embedded_html_graphic = f'<img src=\"data:image/png;base64,{plot_base64}\"/>'\n",
    "        else:\n",
    "            # print(\"No data found!\")\n",
    "            plt.figure(figsize=(10, 6))\n",
    "            plt.xlabel('Time')\n",
    "            plt.ylabel('Rate')\n",
    "            plt.title(f'IRate of {metric_name}')\n",
    "            plt.grid(True)\n",
    "            # print(\"Got empty plot\")\n",
    "\n",
    "            # Save the plot to a BytesIO object\n",
    "            buf = io.BytesIO()\n",
    "            plt.savefig(buf, format='png')\n",
    "            buf.seek(0)\n",
    "            plt.close()\n",
    "            # print(\"Transformed image\")\n",
    "\n",
    "            # Encode the plot as a base64 string\n",
    "            plot_base64 = base64.b64encode(buf.read()).decode('utf-8')\n",
    "            embedded_html_graphic = f'<img src=\"data:image/png;base64,{plot_base64}\"/>'\n",
    "\n",
    "        return MetricPlot(plot_base64=embedded_html_graphic)\n",
    "        # return MetricPlot(plot_base64=plot_base64)\n",
    "    except Exception as e:\n",
    "        print(f\"Exception when plotting metric range data: {e}\")\n",
    "        return MetricPlot(plot_base64=\"\")"
   ]
  },
  {
   "cell_type": "code",
   "execution_count": 104,
   "id": "88dab14f-80ac-4bf9-b6a6-8286441b4806",
   "metadata": {
    "tags": []
   },
   "outputs": [],
   "source": [
    "#prom = PrometheusConnect(url=\"http://prometheus-operated.demo.svc.cluster.local:9090\", disable_ssl=True)"
   ]
  },
  {
   "cell_type": "code",
   "execution_count": 119,
   "id": "f2575823-61c7-4aa4-831f-74266ac2b71c",
   "metadata": {
    "tags": []
   },
   "outputs": [],
   "source": [
    "#range_data = prom.get_metric_range_data(\"load_generator_total_msg\",\n",
    "#                                        start_time=datetime.fromtimestamp(1720122358.937599),\n",
    "#                                        end_time=datetime.fromtimestamp(1720295156.060042),\n",
    "#                                        )\n"
   ]
  },
  {
   "cell_type": "code",
   "execution_count": 120,
   "id": "4354f2ed-e752-4455-a84e-d0e5ae9f0f06",
   "metadata": {
    "tags": []
   },
   "outputs": [
    {
     "data": {
      "text/plain": [
       "list"
      ]
     },
     "execution_count": 120,
     "metadata": {},
     "output_type": "execute_result"
    }
   ],
   "source": [
    "#type(range_data)"
   ]
  },
  {
   "cell_type": "code",
   "execution_count": 121,
   "id": "eba35f95-a098-43ae-8525-79d439eb6f08",
   "metadata": {
    "tags": []
   },
   "outputs": [
    {
     "data": {
      "text/plain": [
       "0"
      ]
     },
     "execution_count": 121,
     "metadata": {},
     "output_type": "execute_result"
    }
   ],
   "source": [
    "#len(range_data)"
   ]
  },
  {
   "cell_type": "markdown",
   "id": "ddd3b122-97c8-4464-b991-4b83bb725088",
   "metadata": {},
   "source": [
    "## For long text or files, create the file locally and return an URL or filename, depending from where you will access it\n",
    "\n",
    "### Also create two versions, one for ReAct and one for FuncCalling\n",
    "\n",
    "### Note that when returning an answer use in the output a convention/template that you can then parse in the app before showing the answer in the UI\n",
    "### For example you can have whenever returning a file the pattern: file_<img/csv/...>:<location/name>"
   ]
  },
  {
   "cell_type": "code",
   "execution_count": 9,
   "id": "b0932a81-b4d9-4ff3-b8a1-d3188aa97a73",
   "metadata": {},
   "outputs": [],
   "source": [
    "prometheus_all_metrics_description = \"\"\"\n",
    "List available metric names in a Prometheus instance using an input filter.\n",
    "\n",
    ":param prom_service: the name of the Prometheus service\n",
    ":param prom_namespace: the name of the namespace where the Prometheus service resides.\n",
    ":param prom_port: the port value number of the Prometheus service.\n",
    ":param query_target_name: the name of the filter to use.\n",
    ":param query_target_value: the value for the filter\n",
    "\n",
    ":return: An object containing the available metric names.\n",
    "\"\"\""
   ]
  },
  {
   "cell_type": "code",
   "execution_count": 10,
   "id": "6616d67d-5df1-4d07-832f-774c3edb5a86",
   "metadata": {},
   "outputs": [],
   "source": [
    "# Create a tool for the agent\n",
    "tool_prometheus_all_metrics = Tool(\n",
    "    name=\"List_Prometheus_Metrics_Names_Using_A_Filter\",\n",
    "    func=query_prometheus_metrics,\n",
    "    args_schema=ToolsInputSchema,\n",
    "    description=prometheus_all_metrics_description,\n",
    "    handle_tool_error=True,\n",
    "    handle_validation_error=True,\n",
    ")"
   ]
  },
  {
   "cell_type": "code",
   "execution_count": 11,
   "id": "ab1a5768-2b28-4cea-8fd0-1d514a230f6b",
   "metadata": {},
   "outputs": [],
   "source": [
    "prometheus_metric_data_range_description = \"\"\"\n",
    "List the application metric values and associated timestamps between a start and an end timestamp interval for a given metric name stored within a Prometheus instance.\n",
    "\n",
    ":param prom_service: the Prometheus service name where the tool connects.\n",
    ":param prom_namespace: the name of the namespace where the Prometheus service resides. \n",
    ":param prom_port: the port value number of the Prometheus service.\n",
    ":param metric_name: the name of the application metric for which we want its values.\n",
    ":param metric_range_start: the start value timestamp, which is a float number.\n",
    ":param metric_range_end: the end value timestamp, which is a float number.\n",
    "\n",
    ":return: An object containing the list of the desired application metric values and associated timestamp information.\n",
    "\"\"\""
   ]
  },
  {
   "cell_type": "code",
   "execution_count": 12,
   "id": "1fbd942e-db5c-4375-a26e-1715a80bcc83",
   "metadata": {},
   "outputs": [],
   "source": [
    "# Create a tool for the agent\n",
    "tool_prometheus_metric_range = Tool(\n",
    "    name=\"List_metric_values_between_a_timestamp_range\",\n",
    "    func=get_prometheus_metric_data_range,\n",
    "    args_schema=ToolsInputSchema,\n",
    "    description=prometheus_metric_data_range_description,\n",
    "    handle_tool_error=True,\n",
    "    handle_validation_error=True,\n",
    ")"
   ]
  },
  {
   "cell_type": "code",
   "execution_count": 13,
   "id": "c51077ab-094b-4139-ad62-739a620655bc",
   "metadata": {},
   "outputs": [],
   "source": [
    "time_value_description = \"\"\"\n",
    "Calculate the timestamp, the iso formatted string and the timezone string of the requested time information. \n",
    "\n",
    ":param time_value: It is either the string literal 'now' if the current time is needed, or the integer value of the desired time relative to the current time\n",
    ":param time_metric: It is extracted from the request is the string literal of the time metric: 'seconds', or 'minutes', or 'hours', or 'days' ,or 'weeks', or 'months', or 'years'. If any of the mentioned literal strings aren't found in the request, the time_metric value is 'seconds'.\n",
    ":param ago_flag: It is 0 if the word ago was NOT present in the request, and it is 1 if the word ago was present in the request.\n",
    "\n",
    ":return: An object containing the following information: the timestamp value, the ISO formatted string of the date time value, the timezone string.\n",
    "\"\"\""
   ]
  },
  {
   "cell_type": "code",
   "execution_count": null,
   "id": "93d74be6-bfcb-403a-acbd-434efcd7ddbc",
   "metadata": {},
   "outputs": [],
   "source": [
    "\"\"\"\n",
    "The time calculation requires three parameters. \n",
    "The first parameter is called time_value and its value is either the string literal 'now' if the current time is needed, or the integer value of the desired time relative to the current time.\n",
    "The second parameter is called time_metric and its value is extracted from the request is the string literal of the time metric: 'seconds', or 'minutes', or 'hours', or 'days' ,or 'weeks', or 'months', or 'years'.\n",
    "If the second parameter is not available in the request, then its value is 'seconds'.\n",
    "The third parameter is called ago_flag and its value is 0 if the word ago was not present int the request, and its value is 1 if the word ago was present in the request.\n",
    "Pass on the parameters as a dictionary that uses double quotes for the parameter names. ALWAYS pass on values for all three parameters as instructed.\n",
    "\n",
    "\"\"\""
   ]
  },
  {
   "cell_type": "code",
   "execution_count": 14,
   "id": "913d1d70-6590-4ba7-b535-a45664fef713",
   "metadata": {},
   "outputs": [],
   "source": [
    "# Create a tool for the agent\n",
    "tool_time_value = Tool(\n",
    "    name=\"Get_timestamp_and_time_ISO\",\n",
    "    func=get_timestamp,\n",
    "    args_schema=ToolsInputSchema,\n",
    "    description=time_value_description,\n",
    "    handle_tool_error=True,\n",
    "    handle_validation_error=True,\n",
    ")"
   ]
  },
  {
   "cell_type": "code",
   "execution_count": 11,
   "id": "855f0b31-11e3-452a-9d8d-9b86a1d2ee90",
   "metadata": {},
   "outputs": [],
   "source": [
    "plot_prometheus_metric_data_range_description = \"\"\"\n",
    "Plots the instantaneous rate (irate) of an application metric values and associated timestamps between a start and an end timestamp interval for a given metric name stored within a Prometheus instance\n",
    "\n",
    ":param prom_service: the name of the Prometheus service\n",
    ":param prom_namespace: the name of the namespace where the Prometheus service resides.\n",
    ":param prom_port: the port value number of the Prometheus service.\n",
    ":param metric_name: the name of the application metric for which we want its instantaneous rate values plotted.\n",
    ":param metric_range_start: the start value timestamp, which is a float number.\n",
    ":param metric_range_end: the end value timestamp, which is a float number.\n",
    "\n",
    ":return: The HTML tag with a base64 encoded string value of the plot\n",
    "\"\"\""
   ]
  },
  {
   "cell_type": "code",
   "execution_count": null,
   "id": "c3b121aa-fbf3-4a2c-8f80-ab567d4d1ce3",
   "metadata": {},
   "outputs": [],
   "source": [
    "plot_prometheus_metric_data_range_description_as_file = \"\"\"\n",
    "Creates a file with the plot of the instantaneous rate (irate) of an application metric values and associated timestamps between a start and an end timestamp interval for a given metric name stored within a Prometheus instance\n",
    "\n",
    ":param prom_service: the name of the Prometheus service\n",
    ":param prom_namespace: the name of the namespace where the Prometheus service resides.\n",
    ":param prom_port: the port value number of the Prometheus service.\n",
    ":param metric_name: the name of the application metric for which we want its instantaneous rate values plotted.\n",
    ":param metric_range_start: the start value timestamp, which is a float number.\n",
    ":param metric_range_end: the end value timestamp, which is a float number.\n",
    "\n",
    ":return: The name of the file containing the plot\n",
    "\"\"\""
   ]
  },
  {
   "cell_type": "code",
   "execution_count": null,
   "id": "4ca8a288-f38c-4b18-8f97-d4e644f8da5f",
   "metadata": {},
   "outputs": [],
   "source": [
    "#Pass on the parameters as a dictionary that uses double quotes for the parameter names."
   ]
  },
  {
   "cell_type": "code",
   "execution_count": 14,
   "id": "5009736d-3602-4e87-b998-d2d5260b5104",
   "metadata": {
    "tags": []
   },
   "outputs": [],
   "source": [
    "# Create a tool for the agent\n",
    "tool_plot_prometheus_metric_range = Tool(\n",
    "    name=\"Plot_irate_data\",\n",
    "    func=plot_prometheus_metric_data_range,\n",
    "    description=plot_prometheus_metric_data_range_description,\n",
    "    args_schema=ToolsInputSchema,\n",
    "    handle_tool_error=True,\n",
    "    handle_validation_error=True,\n",
    "    return_direct=True\n",
    ")"
   ]
  },
  {
   "cell_type": "code",
   "execution_count": null,
   "id": "f52e435c-4120-409d-a79d-9b3bfdd1272c",
   "metadata": {},
   "outputs": [],
   "source": [
    "# Create a tool for the agent\n",
    "tool_plot_prometheus_metric_range_as_file = Tool(\n",
    "    name=\"File_create_plot_irate\",\n",
    "    func=plot_prometheus_metric_data_range_as_file,\n",
    "    description=plot_prometheus_metric_data_range_description_as_file,\n",
    "    args_schema=ToolsInputSchema,\n",
    "    handle_tool_error=True,\n",
    "    handle_validation_error=True,\n",
    "    # return_direct=True\n",
    ")"
   ]
  }
 ],
 "metadata": {
  "kernelspec": {
   "display_name": "Python 3.9",
   "language": "python",
   "name": "python3"
  },
  "language_info": {
   "codemirror_mode": {
    "name": "ipython",
    "version": 3
   },
   "file_extension": ".py",
   "mimetype": "text/x-python",
   "name": "python",
   "nbconvert_exporter": "python",
   "pygments_lexer": "ipython3",
   "version": "3.9.18"
  }
 },
 "nbformat": 4,
 "nbformat_minor": 5
}
