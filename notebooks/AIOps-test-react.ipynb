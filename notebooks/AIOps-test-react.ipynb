{
 "cells": [
  {
   "cell_type": "code",
   "execution_count": null,
   "id": "aae495c1-6c81-4012-993f-34da0c1c9943",
   "metadata": {
    "tags": []
   },
   "outputs": [],
   "source": [
    "# Import LLM libraries\n",
    "from langchain import hub\n",
    "from langchain_openai import ChatOpenAI\n",
    "from langchain.agents import AgentExecutor, create_react_agent\n",
    "from langchain.memory import ConversationBufferMemory"
   ]
  },
  {
   "cell_type": "code",
   "execution_count": null,
   "id": "9159fe1e-bec8-424d-ab33-08bc958b008a",
   "metadata": {
    "tags": []
   },
   "outputs": [],
   "source": [
    "llm = ChatOpenAI(model=\"gpt-4-turbo\",\n",
    "                 #gpt-3.5-turbo-0125,\n",
    "                 temperature=0)"
   ]
  },
  {
   "cell_type": "code",
   "execution_count": null,
   "id": "2b371591-dcc3-4fb7-a6aa-b8958a86bb74",
   "metadata": {
    "tags": []
   },
   "outputs": [],
   "source": [
    "%run tool_list_operators.ipynb"
   ]
  },
  {
   "cell_type": "code",
   "execution_count": null,
   "id": "050f99eb-322d-41bf-a8bc-618e8b38c523",
   "metadata": {
    "tags": []
   },
   "outputs": [],
   "source": [
    "%run tool_summarize_states.ipynb"
   ]
  },
  {
   "cell_type": "code",
   "execution_count": null,
   "id": "46f81cc3-0ffe-4ca5-b71d-b24254cf1a73",
   "metadata": {
    "tags": []
   },
   "outputs": [],
   "source": [
    "%run tool_prometheus.ipynb"
   ]
  },
  {
   "cell_type": "code",
   "execution_count": null,
   "id": "f14baab0-ccef-4ffd-8533-95afc910f183",
   "metadata": {
    "tags": []
   },
   "outputs": [],
   "source": [
    "%run tool_mlasp.ipynb"
   ]
  },
  {
   "cell_type": "code",
   "execution_count": null,
   "id": "52aa2e32-62e1-4429-bb4b-014f51b2de0d",
   "metadata": {
    "tags": []
   },
   "outputs": [],
   "source": [
    "%run tool_rag.ipynb"
   ]
  },
  {
   "cell_type": "code",
   "execution_count": null,
   "id": "ea471374-6be1-4e56-844c-693206d81b1e",
   "metadata": {
    "tags": []
   },
   "outputs": [],
   "source": [
    "tools = [tool_operators_list, tool_namespace_pods_summary, tool_namespace_svc_summary, \n",
    "         tool_prometheus_all_metrics, tool_prometheus_metric_range, tool_time_value,\n",
    "         tool_plot_prometheus_metric_range_as_file, \n",
    "         tool_mlasp_config, tool_retriever\n",
    "        ]"
   ]
  },
  {
   "cell_type": "code",
   "execution_count": null,
   "id": "9d17f28c-7708-4b53-8aea-40ee20809a31",
   "metadata": {
    "tags": []
   },
   "outputs": [],
   "source": [
    "type(tools)"
   ]
  },
  {
   "cell_type": "code",
   "execution_count": null,
   "id": "4a6ba44e-b961-4746-921a-b1754b0adb49",
   "metadata": {
    "tags": []
   },
   "outputs": [],
   "source": [
    "type(tool_operators_list)"
   ]
  },
  {
   "cell_type": "code",
   "execution_count": null,
   "id": "ab6ff323-6e6a-49c7-874b-586c725e7aea",
   "metadata": {
    "tags": []
   },
   "outputs": [],
   "source": [
    "prompt_react = hub.pull(\"hwchase17/react\")"
   ]
  },
  {
   "cell_type": "code",
   "execution_count": null,
   "id": "e9cb5160-fa47-4afd-bac6-57fa66c3774a",
   "metadata": {
    "tags": []
   },
   "outputs": [],
   "source": [
    "memory_react = ConversationBufferMemory(memory_key=\"chat_history\")"
   ]
  },
  {
   "cell_type": "code",
   "execution_count": null,
   "id": "af93f1b6-36b6-447f-ab62-adca91e5d3d6",
   "metadata": {
    "tags": []
   },
   "outputs": [],
   "source": [
    "prompt_react.pretty_print()"
   ]
  },
  {
   "cell_type": "code",
   "execution_count": null,
   "id": "eb1c6450-4d27-4b5e-bbaf-3716ed0c66db",
   "metadata": {
    "tags": []
   },
   "outputs": [],
   "source": [
    "agent_react_chat = create_react_agent(llm, tools, prompt_react)"
   ]
  },
  {
   "cell_type": "code",
   "execution_count": null,
   "id": "d6f3b80a-cabf-4ca2-a6e3-fb8917fc7794",
   "metadata": {
    "tags": []
   },
   "outputs": [],
   "source": [
    "agent_executor_react_chat = AgentExecutor(agent=agent_react_chat,\n",
    "                                          tools=tools,\n",
    "                                          memory=memory_react,\n",
    "                                          handle_parsing_errors=\"Check your output and make sure it conforms, use the Action/Action Input syntax.\",\n",
    "                                          verbose=True,\n",
    "                                         )"
   ]
  },
  {
   "cell_type": "code",
   "execution_count": null,
   "id": "5901600b-750b-4b67-880c-f51dfb8f7aed",
   "metadata": {
    "tags": []
   },
   "outputs": [],
   "source": [
    "res = agent_executor_react_chat.invoke({\"input\": \"hi, who are you?\"})"
   ]
  },
  {
   "cell_type": "code",
   "execution_count": null,
   "id": "f10bbb90-195f-4613-a0db-50fd1fc01f0b",
   "metadata": {
    "tags": []
   },
   "outputs": [],
   "source": [
    "print(res['output'])"
   ]
  },
  {
   "cell_type": "code",
   "execution_count": null,
   "id": "526defb8-a8de-4ff7-87d2-c7010915a7a4",
   "metadata": {
    "tags": []
   },
   "outputs": [],
   "source": [
    "res"
   ]
  },
  {
   "cell_type": "code",
   "execution_count": null,
   "id": "e2199454-0765-45ff-a2ca-f72c38e0a60c",
   "metadata": {
    "tags": []
   },
   "outputs": [],
   "source": [
    "res = agent_executor_react_chat.invoke({\"input\": \"What operators are in namespace demo?\"})"
   ]
  },
  {
   "cell_type": "code",
   "execution_count": null,
   "id": "3916af2e-8354-43d3-a879-7794cce8ce39",
   "metadata": {
    "tags": []
   },
   "outputs": [],
   "source": [
    "print(res['output'])"
   ]
  },
  {
   "cell_type": "code",
   "execution_count": null,
   "id": "c5710d1f-fa0b-4b71-8fdc-42e660cd0d23",
   "metadata": {
    "tags": []
   },
   "outputs": [],
   "source": [
    "res = agent_executor_react_chat.invoke({\"input\": \"What configuration of WireMock supports a throughput KPI of 307 within a 2.9 percent precision? Search for 100 epochs to find the result.\"})"
   ]
  },
  {
   "cell_type": "code",
   "execution_count": null,
   "id": "2690066d-0f27-456c-a0d9-9e67258235f0",
   "metadata": {
    "tags": []
   },
   "outputs": [],
   "source": [
    "print(res['output'])"
   ]
  },
  {
   "cell_type": "code",
   "execution_count": null,
   "id": "b84114e2-e1be-4246-819a-750692f111c7",
   "metadata": {
    "tags": []
   },
   "outputs": [],
   "source": [
    "res = agent_executor_react_chat.invoke({\"input\": \"How can I create a Data Science Project?\"})"
   ]
  },
  {
   "cell_type": "code",
   "execution_count": null,
   "id": "16b1cfb2-99d8-4231-bd17-c657866a7973",
   "metadata": {
    "tags": []
   },
   "outputs": [],
   "source": [
    "print(res['output'])"
   ]
  },
  {
   "cell_type": "code",
   "execution_count": null,
   "id": "4e8e4d89-9cd4-4444-9806-e269ef7ceaad",
   "metadata": {
    "tags": []
   },
   "outputs": [],
   "source": [
    "res = agent_executor_react_chat.invoke({\"input\": \"What operators are in namespace demo? Please provide only the name and the version for each operator.\"})\n",
    "print(res['output'])"
   ]
  },
  {
   "cell_type": "code",
   "execution_count": null,
   "id": "fc1341d6-dfe3-4d74-9733-121b6c0f0867",
   "metadata": {
    "tags": []
   },
   "outputs": [],
   "source": [
    "print(agent_executor_react_chat.invoke({\"input\": \"Can you describe Paris in 100 words or less?\"})['output'])"
   ]
  },
  {
   "cell_type": "code",
   "execution_count": null,
   "id": "782de62e-80b1-45a6-8645-f640c320acb9",
   "metadata": {
    "tags": []
   },
   "outputs": [],
   "source": [
    "print(agent_executor_react_chat.invoke({\"input\": \"Is there a river?\"})['output'])"
   ]
  },
  {
   "cell_type": "code",
   "execution_count": null,
   "id": "531dfac8-69f7-4cfa-8e6a-e60eccb865a4",
   "metadata": {
    "tags": []
   },
   "outputs": [],
   "source": [
    "res = agent_executor_react_chat.invoke({\"input\": \"Tell me about the pods in namespace demo\"})\n",
    "print(res['output'])"
   ]
  },
  {
   "cell_type": "code",
   "execution_count": null,
   "id": "f078b516-1c28-4a1a-ac8c-2e0a235cb252",
   "metadata": {
    "tags": []
   },
   "outputs": [],
   "source": [
    "result = agent_executor_react_chat.invoke({\"input\": \"Give me a summary of the running pods in namespace demo. Please include service and route information in the response.\"})"
   ]
  },
  {
   "cell_type": "code",
   "execution_count": null,
   "id": "9fd257b9-b17d-4ebf-8955-96b7a1b478b9",
   "metadata": {
    "tags": []
   },
   "outputs": [],
   "source": [
    "print(result['output'])"
   ]
  },
  {
   "cell_type": "code",
   "execution_count": null,
   "id": "de4079cd-b3bc-4d29-8b84-4c2e3a29c4d3",
   "metadata": {
    "tags": []
   },
   "outputs": [],
   "source": [
    "result = agent_executor_react_chat.invoke({\"input\": \"Give the complete summary of the pods in namespace demo.\"})"
   ]
  },
  {
   "cell_type": "code",
   "execution_count": null,
   "id": "f310d5b8-d5e0-4b1a-90d8-4887893832ae",
   "metadata": {
    "tags": []
   },
   "outputs": [],
   "source": [
    "print(result['output'])"
   ]
  },
  {
   "cell_type": "code",
   "execution_count": null,
   "id": "75587ccd-56cc-4706-944f-7299fc236608",
   "metadata": {
    "tags": []
   },
   "outputs": [],
   "source": [
    "# This call breaks if we don't set handle_parsing_errors=True at the agent creation\n",
    "print(agent_executor_react_chat.invoke({\"input\": \"What day is today?\"})['output'])"
   ]
  },
  {
   "cell_type": "code",
   "execution_count": null,
   "id": "0cc327e0-9234-49e4-87dd-ee4547df9eaf",
   "metadata": {
    "tags": []
   },
   "outputs": [],
   "source": [
    "print(agent_executor_react_chat.invoke({\"input\": \"What is the current date time?\"})['output'])"
   ]
  },
  {
   "cell_type": "code",
   "execution_count": null,
   "id": "4b9108ac-d75b-4607-b8a2-55ace52e9f58",
   "metadata": {
    "tags": []
   },
   "outputs": [],
   "source": [
    "print(agent_executor_react_chat.invoke({\"input\": \"What is the current timestamp?\"})['output'])"
   ]
  },
  {
   "cell_type": "code",
   "execution_count": null,
   "id": "caf8a77a-ec47-49df-afd9-fe590b1cf35c",
   "metadata": {
    "tags": []
   },
   "outputs": [],
   "source": [
    "print(agent_executor_react_chat.invoke({\"input\": \"What is the timestamp and date time for 3 hours ago?\"})['output'])"
   ]
  },
  {
   "cell_type": "code",
   "execution_count": null,
   "id": "1a13b070-b171-4883-98bf-80bc02823dec",
   "metadata": {
    "tags": []
   },
   "outputs": [],
   "source": [
    "print(agent_executor_react_chat.invoke({\"input\": \"What is the timestamp and date time for 3 hours from now?\"})['output'])"
   ]
  },
  {
   "cell_type": "code",
   "execution_count": null,
   "id": "032b86c7-9244-4390-abd5-3ee1ff55004f",
   "metadata": {
    "tags": []
   },
   "outputs": [],
   "source": [
    "result = agent_executor_react_chat.invoke({\"input\": \"Give me a summary of the running pods in namespace demo. Give me only the names and the route if they have one.\"})"
   ]
  },
  {
   "cell_type": "code",
   "execution_count": null,
   "id": "aedc1d88-10c8-433a-ac40-911ab5f28047",
   "metadata": {
    "tags": []
   },
   "outputs": [],
   "source": [
    "print(result['output'])"
   ]
  },
  {
   "cell_type": "code",
   "execution_count": null,
   "id": "77c573a0-2998-49be-9815-6e18b8aea0c5",
   "metadata": {
    "tags": []
   },
   "outputs": [],
   "source": [
    "result = agent_executor_react_chat.invoke(input={\"input\": \"Is there a prometheus service running in namespace demo? If so, give me its name and port values.\"})"
   ]
  },
  {
   "cell_type": "code",
   "execution_count": null,
   "id": "451cd25c-b4e0-467e-80ee-76b9cf1965d9",
   "metadata": {
    "tags": []
   },
   "outputs": [],
   "source": [
    "print(result['output'])"
   ]
  },
  {
   "cell_type": "code",
   "execution_count": null,
   "id": "62c61e8a-abbb-4b52-8170-c76cbc8e5042",
   "metadata": {
    "tags": []
   },
   "outputs": [],
   "source": [
    "result = agent_executor_react_chat.invoke(input = {\"input\": \"Find out the service name and port number of the Prometheus service running in namespace demo. Then use that information to retrieve the list of metrics filtered by namespace demo.\"})"
   ]
  },
  {
   "cell_type": "code",
   "execution_count": null,
   "id": "5e66f893-81b3-438d-a501-8a7f5c683e43",
   "metadata": {
    "tags": []
   },
   "outputs": [],
   "source": [
    "print(result['output'])"
   ]
  },
  {
   "cell_type": "code",
   "execution_count": null,
   "id": "dbecae61-5517-4fc5-b0f1-207c127f9def",
   "metadata": {
    "tags": []
   },
   "outputs": [],
   "source": [
    "result = agent_executor_react_chat.invoke(input = {\"input\": \"Use the Prometheus service name and port number running in namespace demo to get all the metrics that have a name that starts with load_generator.\"})"
   ]
  },
  {
   "cell_type": "code",
   "execution_count": null,
   "id": "79508eeb-ab67-4294-a5ea-7826d85be254",
   "metadata": {},
   "outputs": [],
   "source": [
    "print(result['output'])"
   ]
  },
  {
   "cell_type": "code",
   "execution_count": null,
   "id": "99c6c9a8-6a86-4afb-8c3b-e75ec7df7803",
   "metadata": {
    "tags": []
   },
   "outputs": [],
   "source": [
    "result = agent_executor_react_chat.invoke({\"input\": \"Use the Prometheus service name and port number running in namespace demo to get all the prometheus metric data for the metric load_generator_total_msg starting 72 hours ago until now. Print out only the metric values and their associated timestamp as a CSV table.\"})"
   ]
  },
  {
   "cell_type": "code",
   "execution_count": null,
   "id": "918c0638-2924-42fc-8780-ccf1225af271",
   "metadata": {
    "tags": []
   },
   "outputs": [],
   "source": [
    "result = agent_executor_react_chat.invoke({\"input\": \"Find out the Prometheus service name and port number running in namespace demo. Use it to to plot all the prometheus metric data for the metric load_generator_total_msg starting 48 hours ago until now. Return only the content string of the tool and nothing else.\"})"
   ]
  },
  {
   "cell_type": "code",
   "execution_count": null,
   "id": "0f44eebe-360d-4964-84fa-d0a51b375097",
   "metadata": {
    "tags": []
   },
   "outputs": [],
   "source": [
    "result"
   ]
  },
  {
   "cell_type": "code",
   "execution_count": null,
   "id": "3b15c578-4d01-403c-88dc-7d4bc16888ff",
   "metadata": {
    "tags": []
   },
   "outputs": [],
   "source": [
    "result['output']"
   ]
  },
  {
   "cell_type": "code",
   "execution_count": null,
   "id": "5dbf0c92-e3a6-47d2-8f5a-a75e68246b53",
   "metadata": {
    "tags": []
   },
   "outputs": [],
   "source": [
    "result = agent_executor_react_chat.invoke({\"input\": \"Find out the Prometheus service name and port number running in namespace demo. Use it to to plot all the prometheus metric data for the metric load_generator_total_msg starting 120 hours ago until now. Return only the content string of the tool and nothing else.\"})"
   ]
  },
  {
   "cell_type": "code",
   "execution_count": null,
   "id": "34278c5f-5ef0-48f1-b1d9-2ef5f569e909",
   "metadata": {
    "tags": []
   },
   "outputs": [],
   "source": [
    "from IPython import display"
   ]
  },
  {
   "cell_type": "code",
   "execution_count": null,
   "id": "4b7583a4-65f7-417f-9daf-7fcf85e928a5",
   "metadata": {
    "tags": []
   },
   "outputs": [],
   "source": [
    "\n",
    "display.HTML(result['output'])"
   ]
  },
  {
   "cell_type": "code",
   "execution_count": null,
   "id": "0224cf72-ec2c-46c5-8b8f-4903210338d9",
   "metadata": {
    "tags": []
   },
   "outputs": [],
   "source": [
    "len(\"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\")"
   ]
  },
  {
   "cell_type": "code",
   "execution_count": null,
   "id": "5b24fea5-1f78-473e-8626-eb34e4bf3701",
   "metadata": {
    "tags": []
   },
   "outputs": [],
   "source": [
    "get_prometheus_metric_data_range('{\"prom_service\": \"prometheus-operated\", \"prom_namespace\": \"demo\", \"prom_port\": 9090, \"metric_name\": \"load_generator_total_msg\", \"metric_range_start\": 1720126396.412619, \"metric_range_end\": 1720135304.917175}')"
   ]
  },
  {
   "cell_type": "code",
   "execution_count": null,
   "id": "b45246fb-12d7-4754-9092-58c7a8583a2e",
   "metadata": {},
   "outputs": [],
   "source": [
    "#Respond only with the complete, not truncated content of the response object!!!"
   ]
  },
  {
   "cell_type": "code",
   "execution_count": null,
   "id": "56bdede3-810d-490a-96ed-fc59ed76c098",
   "metadata": {
    "tags": []
   },
   "outputs": [],
   "source": [
    "img2 = plot_prometheus_metric_data_range('{\"prom_service\": \"prometheus-operated\", \"prom_namespace\": \"demo\", \"prom_port\": 9090, \"metric_name\": \"load_generator_total_msg\", \"metric_range_start\": 1720126396.412619, \"metric_range_end\": 1720295156.060042}')"
   ]
  },
  {
   "cell_type": "code",
   "execution_count": null,
   "id": "36b8b361-4ea1-4b2c-b2dc-46fa50788c65",
   "metadata": {
    "tags": []
   },
   "outputs": [],
   "source": [
    "len(img2.plot_base64)"
   ]
  },
  {
   "cell_type": "code",
   "execution_count": null,
   "id": "4ddf3129-ec06-459d-a338-4caed13cf60d",
   "metadata": {
    "tags": []
   },
   "outputs": [],
   "source": [
    "#display.HTML(f'<{img2.plot_base64}>')\n",
    "display.HTML(f'<img src=\"data:image/png;base64,{img2.plot_base64}\"/>')"
   ]
  },
  {
   "cell_type": "code",
   "execution_count": null,
   "id": "c556bb77-2bd8-4bb9-be83-6946f790fcb7",
   "metadata": {},
   "outputs": [],
   "source": [
    "img_tag = plot_prometheus_metric_data_range('{\"prom_service\": \"prometheus-operated\", \"prom_namespace\": \"demo\", \"prom_port\": 9090, \"metric_name\": \"load_generator_total_msg\", \"metric_range_start\": 1720048907.744608, \"metric_range_end\": 1720135304.917175}')"
   ]
  },
  {
   "cell_type": "code",
   "execution_count": null,
   "id": "ee844bd5-b533-44dd-99bf-7450c302baa0",
   "metadata": {
    "tags": []
   },
   "outputs": [],
   "source": [
    "type(img_tag)"
   ]
  },
  {
   "cell_type": "code",
   "execution_count": null,
   "id": "e615a4fd-6022-4284-b3f0-e781b3c6eced",
   "metadata": {
    "tags": []
   },
   "outputs": [],
   "source": [
    "img_tag"
   ]
  },
  {
   "cell_type": "code",
   "execution_count": null,
   "id": "53a0e195-28dd-48eb-aacb-350134128abd",
   "metadata": {
    "tags": []
   },
   "outputs": [],
   "source": [
    "#display.HTML(f'<{img_tag.plot_base64}>')\n",
    "display.HTML(f'<img src=\"data:image/png;base64,{img_tag.plot_base64}\"/>')"
   ]
  },
  {
   "cell_type": "code",
   "execution_count": null,
   "id": "74b9d834-8fbc-440b-8c28-368e45d3d6f1",
   "metadata": {},
   "outputs": [],
   "source": [
    "json.loads('`{\"time_value\": \"now\", \"time_metric\": \"seconds\", \"ago_flag\": 0}`')"
   ]
  },
  {
   "cell_type": "code",
   "execution_count": null,
   "id": "adbfdd07-81dc-4d4e-9946-5713ed35846a",
   "metadata": {},
   "outputs": [],
   "source": []
  }
 ],
 "metadata": {
  "kernelspec": {
   "display_name": "Python 3.9",
   "language": "python",
   "name": "python3"
  },
  "language_info": {
   "codemirror_mode": {
    "name": "ipython",
    "version": 3
   },
   "file_extension": ".py",
   "mimetype": "text/x-python",
   "name": "python",
   "nbconvert_exporter": "python",
   "pygments_lexer": "ipython3",
   "version": "3.9.18"
  }
 },
 "nbformat": 4,
 "nbformat_minor": 5
}
