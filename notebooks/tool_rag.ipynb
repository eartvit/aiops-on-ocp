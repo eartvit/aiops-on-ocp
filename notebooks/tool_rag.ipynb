{
 "cells": [
  {
   "cell_type": "code",
   "execution_count": 1,
   "id": "9978582f-21ec-49bf-b2b9-8a350cf072af",
   "metadata": {
    "tags": []
   },
   "outputs": [],
   "source": [
    "from langchain.tools.retriever import create_retriever_tool\n",
    "\n",
    "from langchain_huggingface import HuggingFaceEmbeddings\n",
    "from langchain_milvus import Milvus\n",
    "import os\n",
    "\n",
    "from tqdm.auto import tqdm"
   ]
  },
  {
   "cell_type": "code",
   "execution_count": 2,
   "id": "6fed401e-1cd8-4770-9694-1603bad0319a",
   "metadata": {},
   "outputs": [],
   "source": [
    "from dotenv import load_dotenv\n",
    "load_dotenv(dotenv_path=\"dotenv.txt\");"
   ]
  },
  {
   "cell_type": "code",
   "execution_count": 3,
   "id": "eb3fbd0f-09ee-4af3-8866-303f63b89644",
   "metadata": {
    "tags": []
   },
   "outputs": [],
   "source": [
    "MILVUS_HOST = os.getenv('MILVUS_HOST',\"vectordb-milvus.milvus.svc.cluster.local\")\n",
    "MILVUS_PORT = 19530\n",
    "MILVUS_USERNAME = os.getenv('MILVUS_USERNAME')\n",
    "MILVUS_PASSWORD = os.getenv('MILVUS_PASSWORD')\n",
    "MILVUS_COLLECTION = \"demo_collection\""
   ]
  },
  {
   "cell_type": "code",
   "execution_count": 7,
   "id": "dd5abedf-6fc9-4c8f-9784-8f9b9fdfa4c7",
   "metadata": {},
   "outputs": [
    {
     "data": {
      "text/plain": [
       "'vectordb-milvus.milvus.svc.cluster.local'"
      ]
     },
     "execution_count": 7,
     "metadata": {},
     "output_type": "execute_result"
    }
   ],
   "source": [
    "MILVUS_HOST"
   ]
  },
  {
   "cell_type": "code",
   "execution_count": 6,
   "id": "59fc1d52-cb5a-4b97-81a9-029014345e61",
   "metadata": {
    "scrolled": true,
    "tags": []
   },
   "outputs": [],
   "source": [
    "model_kwargs = {'trust_remote_code': True}\n",
    "embeddings = HuggingFaceEmbeddings(\n",
    "    #model_name=\"nomic-ai/nomic-embed-text-v1\",\n",
    "    model_kwargs=model_kwargs,\n",
    "    show_progress=False\n",
    ")"
   ]
  },
  {
   "cell_type": "code",
   "execution_count": 9,
   "id": "3b17321d-624a-438b-a023-5ff44457aa46",
   "metadata": {},
   "outputs": [
    {
     "name": "stderr",
     "output_type": "stream",
     "text": [
      "DeprecationWarning: `metadata_field` is about to be deprecated, please set `enable_dynamic_field`=True instead.\n"
     ]
    }
   ],
   "source": [
    "store = Milvus(\n",
    "    embedding_function=embeddings,\n",
    "    connection_args={\"uri\": f\"http://{MILVUS_HOST}:{MILVUS_PORT}\", \"user\": MILVUS_USERNAME, \"password\": MILVUS_PASSWORD},\n",
    "    collection_name=MILVUS_COLLECTION,\n",
    "    metadata_field=\"metadata\",\n",
    "    text_field=\"page_content\",\n",
    "    drop_old=False\n",
    "    )"
   ]
  },
  {
   "cell_type": "code",
   "execution_count": 10,
   "id": "c6feb1d5-eca3-4c1a-9ecd-acbec7eeb2d5",
   "metadata": {
    "tags": []
   },
   "outputs": [],
   "source": [
    "retriever = store.as_retriever(\n",
    "            search_type=\"similarity\",\n",
    "            search_kwargs={\"k\": 4}\n",
    "            )"
   ]
  },
  {
   "cell_type": "code",
   "execution_count": 5,
   "id": "8dd0742d-6517-4ec2-aeca-6a35af9be2ac",
   "metadata": {
    "tags": []
   },
   "outputs": [],
   "source": [
    "rag_tool_description = \"\"\"\n",
    "Use this tool when seaching for documentation information about Red Hat OpenShift AI\n",
    "\"\"\""
   ]
  },
  {
   "cell_type": "code",
   "execution_count": 6,
   "id": "fbb9532f-84c0-425e-90d7-374ac6729e0a",
   "metadata": {
    "tags": []
   },
   "outputs": [],
   "source": [
    "tool_retriever = create_retriever_tool(retriever, \"openshift_ai_documentation_search_tool\", rag_tool_description)"
   ]
  },
  {
   "cell_type": "code",
   "execution_count": 7,
   "id": "48602d61-1e4f-40b4-b45d-f251215428d4",
   "metadata": {
    "tags": []
   },
   "outputs": [],
   "source": [
    "os.environ[\"TOKENIZERS_PARALLELISM\"] = \"false\""
   ]
  },
  {
   "cell_type": "code",
   "execution_count": null,
   "id": "463ea3e3-0a84-4da8-8b49-7a0bffd6de11",
   "metadata": {},
   "outputs": [],
   "source": []
  }
 ],
 "metadata": {
  "kernelspec": {
   "display_name": "Python 3.11",
   "language": "python",
   "name": "python3"
  },
  "language_info": {
   "codemirror_mode": {
    "name": "ipython",
    "version": 3
   },
   "file_extension": ".py",
   "mimetype": "text/x-python",
   "name": "python",
   "nbconvert_exporter": "python",
   "pygments_lexer": "ipython3",
   "version": "3.11.11"
  }
 },
 "nbformat": 4,
 "nbformat_minor": 5
}
