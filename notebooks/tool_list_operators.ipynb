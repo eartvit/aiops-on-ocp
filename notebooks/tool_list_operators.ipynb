{
 "cells": [
  {
   "cell_type": "code",
   "execution_count": 1,
   "id": "f2ae909a-4d0a-43bd-a62e-cf0b927ee688",
   "metadata": {},
   "outputs": [],
   "source": [
    "from pydantic import BaseModel, Field\n",
    "from kubernetes import client, config\n",
    "from langchain.tools import Tool\n",
    "from typing import List\n",
    "import json"
   ]
  },
  {
   "cell_type": "code",
   "execution_count": 2,
   "id": "2d651a00-cfcf-43f5-bd19-cf90731ccc06",
   "metadata": {
    "tags": []
   },
   "outputs": [
    {
     "name": "stdout",
     "output_type": "stream",
     "text": [
      "Loaded in-cluster configuration\n"
     ]
    }
   ],
   "source": [
    "try:\n",
    "    config.load_incluster_config()\n",
    "    print(\"Loaded in-cluster configuration\")\n",
    "except Exception as e:\n",
    "    print(f\"Exception loading incluster configuration: {e}\")\n",
    "    try:\n",
    "        config.load_kube_config()\n",
    "        print(\"Loaded local kube_config\")\n",
    "    except Exception as e1:\n",
    "        print(f\"Exception loading local kube_config: {e1}\")"
   ]
  },
  {
   "cell_type": "code",
   "execution_count": 3,
   "id": "4eb29915-50d4-4389-95f2-d3ef96d24c66",
   "metadata": {},
   "outputs": [],
   "source": [
    "class OperatorInfo(BaseModel):\n",
    "    \"\"\"Information about an OpenShift Operator\"\"\"\n",
    "\n",
    "    name: str = Field(description=\"The name of the operator\")\n",
    "    namespace: str = Field(description=\"The namespace where the operator is present\")\n",
    "    version: str = Field(description=\"The version of the operator\")\n",
    "    status: str = Field(description=\"The status of the operator\")"
   ]
  },
  {
   "cell_type": "code",
   "execution_count": 4,
   "id": "62cda8e7-43da-44d6-8903-b229498ab4f0",
   "metadata": {
    "tags": []
   },
   "outputs": [],
   "source": [
    "class OperatorList(BaseModel):\n",
    "    \"\"\"List of the OpenShift Operators\"\"\"\n",
    "\n",
    "    operator_list: List[OperatorInfo] = Field(description=\"The list of the OpenShift Operator information\")"
   ]
  },
  {
   "cell_type": "code",
   "execution_count": 8,
   "id": "84041219-f793-4a9e-a6df-c97722b27802",
   "metadata": {
    "tags": []
   },
   "outputs": [],
   "source": [
    "class ToolsInputSchema(BaseModel):\n",
    "    input_parameters: str = Field(description=\"The input parameters as a dictionary that uses double quotes for the parameter names. Do NOT enclose the dictionary in any additional quotes.\")"
   ]
  },
  {
   "cell_type": "code",
   "execution_count": 5,
   "id": "bf538906-f07e-45a3-8bee-a485e00ae754",
   "metadata": {},
   "outputs": [],
   "source": [
    "# Function to list OpenShift operators in a specific namespace\n",
    "def list_operators(input_parameters: str) -> OperatorList:\n",
    "    input_params = json.loads(input_parameters)\n",
    "    namespace = input_params['namespace']\n",
    "\n",
    "    v1 = client.CustomObjectsApi()\n",
    "    operators = v1.list_namespaced_custom_object(\n",
    "        group=\"operators.coreos.com\",\n",
    "        version=\"v1alpha1\",\n",
    "        namespace=namespace,\n",
    "        plural=\"clusterserviceversions\"\n",
    "    )\n",
    "    operator_list: List[OperatorInfo] = []\n",
    "    for item in operators.get(\"items\", []):\n",
    "        operator_info = OperatorInfo(\n",
    "            name=item[\"metadata\"][\"name\"].split(\".\")[0],\n",
    "            namespace=item[\"metadata\"][\"namespace\"],\n",
    "            version=item[\"spec\"][\"version\"],\n",
    "            status=item[\"status\"][\"phase\"]\n",
    "        )\n",
    "        operator_list.append(operator_info)\n",
    "    return OperatorList(operator_list=operator_list)"
   ]
  },
  {
   "cell_type": "code",
   "execution_count": 6,
   "id": "d3408310-1bfc-413c-9a90-0867aaeefc3c",
   "metadata": {},
   "outputs": [],
   "source": [
    "operator_list_descr = \"\"\"\n",
    "Lists OpenShift operators information in a given namespace.\n",
    ":param namespace: the string value of the namespace\n",
    ":return: an object containing the list of operator information for the available operators such as name, namespace, version and status\n",
    "\"\"\""
   ]
  },
  {
   "cell_type": "code",
   "execution_count": 7,
   "id": "f8295243-f064-4f7c-8313-3532fabc1d3c",
   "metadata": {},
   "outputs": [],
   "source": [
    "# Create a tool for the agent\n",
    "tool_operators_list = Tool(\n",
    "    name=\"List_OpenShift_Operators\",\n",
    "    func=list_operators,\n",
    "    args_schema=ToolsInputSchema,\n",
    "    description=operator_list_descr,\n",
    "    handle_tool_error=True,\n",
    "    handle_validation_error=True,\n",
    ")"
   ]
  },
  {
   "cell_type": "code",
   "execution_count": null,
   "id": "67e23c3d-b887-4f43-8f2c-41eecd2fa0e2",
   "metadata": {},
   "outputs": [],
   "source": []
  }
 ],
 "metadata": {
  "kernelspec": {
   "display_name": "Python 3.9",
   "language": "python",
   "name": "python3"
  },
  "language_info": {
   "codemirror_mode": {
    "name": "ipython",
    "version": 3
   },
   "file_extension": ".py",
   "mimetype": "text/x-python",
   "name": "python",
   "nbconvert_exporter": "python",
   "pygments_lexer": "ipython3",
   "version": "3.9.18"
  }
 },
 "nbformat": 4,
 "nbformat_minor": 5
}
