{
 "cells": [
  {
   "cell_type": "code",
   "execution_count": 1,
   "id": "f2ae909a-4d0a-43bd-a62e-cf0b927ee688",
   "metadata": {},
   "outputs": [],
   "source": [
    "from kubernetes import client, config\n",
    "from langchain.tools import Tool\n",
    "from typing import List, Dict, Optional\n",
    "import json"
   ]
  },
  {
   "cell_type": "code",
   "execution_count": 2,
   "id": "2d651a00-cfcf-43f5-bd19-cf90731ccc06",
   "metadata": {
    "tags": []
   },
   "outputs": [
    {
     "name": "stdout",
     "output_type": "stream",
     "text": [
      "Loaded in-cluster configuration\n"
     ]
    }
   ],
   "source": [
    "try:\n",
    "    config.load_incluster_config()\n",
    "    print(\"Loaded in-cluster configuration\")\n",
    "except Exception as e:\n",
    "    print(f\"Exception loading incluster configuration: {e}\")\n",
    "    try:\n",
    "        config.load_kube_config()\n",
    "        print(\"Loaded local kube_config\")\n",
    "    except Exception as e1:\n",
    "        print(f\"Exception loading local kube_config: {e1}\")"
   ]
  },
  {
   "cell_type": "code",
   "execution_count": 5,
   "id": "bf538906-f07e-45a3-8bee-a485e00ae754",
   "metadata": {},
   "outputs": [],
   "source": [
    "# Function to list OpenShift operators in a specific namespace\n",
    "def tool_list_openshift_operators(namespace: str) -> List[Dict]:\n",
    "    \"\"\"\n",
    "    Lists OpenShift operators information in a given namespace.\n",
    "    Args:\n",
    "        namespace(str): the string value of the namespace\n",
    "    Returns:\n",
    "        A list of dictionaries containing operator information for the available operators such as name, namespace, version and status\n",
    "    \"\"\"\n",
    "    v1 = client.CustomObjectsApi()\n",
    "    operators = v1.list_namespaced_custom_object(\n",
    "        group=\"operators.coreos.com\",\n",
    "        version=\"v1alpha1\",\n",
    "        namespace=namespace,\n",
    "        plural=\"clusterserviceversions\"\n",
    "    )\n",
    "    operator_list: List = []\n",
    "    for item in operators.get(\"items\", []):\n",
    "        operator_info: Dict = {\n",
    "            \"name\": item[\"metadata\"][\"name\"].split(\".\")[0],\n",
    "            \"namespace\": item[\"metadata\"][\"namespace\"],\n",
    "            \"version\": item[\"spec\"][\"version\"],\n",
    "            \"status\": item[\"status\"][\"phase\"]\n",
    "        }\n",
    "\n",
    "        operator_list.append(operator_info)\n",
    "\n",
    "    return operator_list"
   ]
  },
  {
   "cell_type": "code",
   "execution_count": null,
   "id": "67e23c3d-b887-4f43-8f2c-41eecd2fa0e2",
   "metadata": {},
   "outputs": [],
   "source": []
  }
 ],
 "metadata": {
  "kernelspec": {
   "display_name": "Python 3.11",
   "language": "python",
   "name": "python3"
  },
  "language_info": {
   "codemirror_mode": {
    "name": "ipython",
    "version": 3
   },
   "file_extension": ".py",
   "mimetype": "text/x-python",
   "name": "python",
   "nbconvert_exporter": "python",
   "pygments_lexer": "ipython3",
   "version": "3.11.11"
  }
 },
 "nbformat": 4,
 "nbformat_minor": 5
}
