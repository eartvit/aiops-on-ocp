{
 "cells": [
  {
   "cell_type": "code",
   "execution_count": 1,
   "id": "aae495c1-6c81-4012-993f-34da0c1c9943",
   "metadata": {
    "tags": []
   },
   "outputs": [],
   "source": [
    "from langchain_openai import ChatOpenAI\n",
    "import os"
   ]
  },
  {
   "cell_type": "code",
   "execution_count": 2,
   "id": "4fb830e9-7242-4fe1-8997-e38092c86645",
   "metadata": {},
   "outputs": [],
   "source": [
    "from dotenv import load_dotenv\n",
    "load_dotenv(dotenv_path=\"dotenv.txt\");"
   ]
  },
  {
   "cell_type": "code",
   "execution_count": 3,
   "id": "9f822aa0-a23d-4378-b7aa-0e3ad2e185a6",
   "metadata": {},
   "outputs": [],
   "source": [
    "OPENAI_API_KEY = os.getenv('OPENAI_API_KEY')"
   ]
  },
  {
   "cell_type": "code",
   "execution_count": 4,
   "id": "62d83522-9e75-4e8c-adc6-06eadeab4b3f",
   "metadata": {},
   "outputs": [],
   "source": [
    "llm = ChatOpenAI(model=\"gpt-4-turbo\",\n",
    "                 openai_api_key = OPENAI_API_KEY,\n",
    "                 #gpt-3.5-turbo-0125,\n",
    "                 temperature=0)"
   ]
  },
  {
   "cell_type": "code",
   "execution_count": 5,
   "id": "2b371591-dcc3-4fb7-a6aa-b8958a86bb74",
   "metadata": {
    "tags": []
   },
   "outputs": [
    {
     "name": "stdout",
     "output_type": "stream",
     "text": [
      "Loaded in-cluster configuration\n"
     ]
    }
   ],
   "source": [
    "%run tool_list_operators-v2.ipynb"
   ]
  },
  {
   "cell_type": "code",
   "execution_count": 6,
   "id": "050f99eb-322d-41bf-a8bc-618e8b38c523",
   "metadata": {
    "tags": []
   },
   "outputs": [],
   "source": [
    "%run tool_summarize_states-v2.ipynb"
   ]
  },
  {
   "cell_type": "code",
   "execution_count": 7,
   "id": "46f81cc3-0ffe-4ca5-b71d-b24254cf1a73",
   "metadata": {
    "tags": []
   },
   "outputs": [],
   "source": [
    "%run tool_prometheus-v2.ipynb"
   ]
  },
  {
   "cell_type": "code",
   "execution_count": 8,
   "id": "f14baab0-ccef-4ffd-8533-95afc910f183",
   "metadata": {
    "tags": []
   },
   "outputs": [
    {
     "name": "stderr",
     "output_type": "stream",
     "text": [
      "/opt/app-root/lib64/python3.11/site-packages/sklearn/base.py:380: InconsistentVersionWarning: Trying to unpickle estimator StandardScaler from version 1.2.2 when using version 1.6.1. This might lead to breaking code or invalid results. Use at your own risk. For more info please refer to:\n",
      "https://scikit-learn.org/stable/model_persistence.html#security-maintainability-limitations\n",
      "  warnings.warn(\n"
     ]
    }
   ],
   "source": [
    "%run tool_mlasp-v2.ipynb"
   ]
  },
  {
   "cell_type": "code",
   "execution_count": 9,
   "id": "52aa2e32-62e1-4429-bb4b-014f51b2de0d",
   "metadata": {
    "tags": []
   },
   "outputs": [
    {
     "name": "stderr",
     "output_type": "stream",
     "text": [
      "DeprecationWarning: `metadata_field` is about to be deprecated, please set `enable_dynamic_field`=True instead.\n"
     ]
    }
   ],
   "source": [
    "%run tool_rag-v2.ipynb"
   ]
  },
  {
   "cell_type": "code",
   "execution_count": 10,
   "id": "ea471374-6be1-4e56-844c-693206d81b1e",
   "metadata": {
    "tags": []
   },
   "outputs": [],
   "source": [
    "tools = [tool_list_openshift_operators, tool_query_prometheus_metrics, tool_get_prometheus_metric_data_range, \n",
    "         tool_plot_prometheus_metric_data_range_as_file, tool_calculate_time_information,\n",
    "         tool_summarize_pod_states, tool_summarize_service_states,\n",
    "         tool_wiremock_configuration_predictor, tool_retriever\n",
    "        ]"
   ]
  },
  {
   "cell_type": "code",
   "execution_count": 11,
   "id": "9d17f28c-7708-4b53-8aea-40ee20809a31",
   "metadata": {
    "tags": []
   },
   "outputs": [
    {
     "data": {
      "text/plain": [
       "list"
      ]
     },
     "execution_count": 11,
     "metadata": {},
     "output_type": "execute_result"
    }
   ],
   "source": [
    "type(tools)"
   ]
  },
  {
   "cell_type": "code",
   "execution_count": 12,
   "id": "4a6ba44e-b961-4746-921a-b1754b0adb49",
   "metadata": {
    "tags": []
   },
   "outputs": [
    {
     "data": {
      "text/plain": [
       "function"
      ]
     },
     "execution_count": 12,
     "metadata": {},
     "output_type": "execute_result"
    }
   ],
   "source": [
    "type(tool_list_openshift_operators)"
   ]
  },
  {
   "cell_type": "code",
   "execution_count": 13,
   "id": "61114877-9db7-4170-84be-6507cacd7f9b",
   "metadata": {},
   "outputs": [],
   "source": [
    "llm_with_tools = llm.bind_tools(tools, parallel_tool_calls=False)"
   ]
  },
  {
   "cell_type": "code",
   "execution_count": 14,
   "id": "ad596e0b-efc6-401a-970a-eb1979dafc9d",
   "metadata": {},
   "outputs": [],
   "source": [
    "from langgraph.graph import MessagesState\n",
    "from langchain_core.messages import HumanMessage, SystemMessage\n",
    "\n",
    "# System message\n",
    "sys_msg = SystemMessage(content=\"You are a helpful assistant tasked with using tools to retrieve information to answer questions about OpenShift, the services and applications running inside it.\")\n",
    "\n",
    "# Node\n",
    "def assistant(state: MessagesState):\n",
    "   return {\"messages\": [llm_with_tools.invoke([sys_msg] + state[\"messages\"])]}"
   ]
  },
  {
   "cell_type": "code",
   "execution_count": 15,
   "id": "048e8766-3d3a-4b9a-b872-e7d5a1b80cf6",
   "metadata": {},
   "outputs": [
    {
     "data": {
      "image/png": "[encoded data removed]",
      "text/plain": [
       "<IPython.core.display.Image object>"
      ]
     },
     "metadata": {},
     "output_type": "display_data"
    }
   ],
   "source": [
    "from langgraph.graph import START, StateGraph\n",
    "from langgraph.prebuilt import tools_condition\n",
    "from langgraph.prebuilt import ToolNode\n",
    "from IPython.display import Image, display\n",
    "\n",
    "# Graph\n",
    "builder = StateGraph(MessagesState)\n",
    "\n",
    "# Define nodes: these do the work\n",
    "builder.add_node(\"assistant\", assistant)\n",
    "builder.add_node(\"tools\", ToolNode(tools))\n",
    "\n",
    "# Define edges: these determine how the control flow moves\n",
    "builder.add_edge(START, \"assistant\")\n",
    "builder.add_conditional_edges(\n",
    "    \"assistant\",\n",
    "    # If the latest message (result) from assistant is a tool call -> tools_condition routes to tools\n",
    "    # If the latest message (result) from assistant is a not a tool call -> tools_condition routes to END\n",
    "    tools_condition,\n",
    ")\n",
    "builder.add_edge(\"tools\", \"assistant\")\n",
    "react_graph = builder.compile()\n",
    "\n",
    "# Show\n",
    "display(Image(react_graph.get_graph(xray=True).draw_mermaid_png()))"
   ]
  },
  {
   "cell_type": "code",
   "execution_count": 16,
   "id": "82e89f07-2f5f-4226-997f-ebe9c7ead201",
   "metadata": {},
   "outputs": [],
   "source": [
    "messages = [HumanMessage(content=\"hi, who are you?\")]\n",
    "messages = react_graph.invoke({\"messages\": messages})"
   ]
  },
  {
   "cell_type": "code",
   "execution_count": 17,
   "id": "c8dcaeec-2f05-4010-84e9-4239ccd8af4a",
   "metadata": {},
   "outputs": [
    {
     "name": "stdout",
     "output_type": "stream",
     "text": [
      "================================\u001b[1m Human Message \u001b[0m=================================\n",
      "\n",
      "hi, who are you?\n",
      "==================================\u001b[1m Ai Message \u001b[0m==================================\n",
      "\n",
      "Hello! I'm an AI assistant here to help you with your questions and tasks. How can I assist you today?\n"
     ]
    }
   ],
   "source": [
    "for m in messages['messages']:\n",
    "    m.pretty_print()"
   ]
  },
  {
   "cell_type": "code",
   "execution_count": 18,
   "id": "7a768d39-0b13-4fbe-89e8-62c57ba58ccf",
   "metadata": {},
   "outputs": [],
   "source": [
    "msg = messages[\"messages\"][-1]"
   ]
  },
  {
   "cell_type": "code",
   "execution_count": 19,
   "id": "dfa9e1c8-df93-48a6-9cda-7b0ba6034238",
   "metadata": {},
   "outputs": [
    {
     "data": {
      "text/plain": [
       "langchain_core.messages.ai.AIMessage"
      ]
     },
     "execution_count": 19,
     "metadata": {},
     "output_type": "execute_result"
    }
   ],
   "source": [
    "type(msg)"
   ]
  },
  {
   "cell_type": "code",
   "execution_count": 21,
   "id": "9ff7ad39-9a17-4daa-bbc1-0d9904f8f14e",
   "metadata": {},
   "outputs": [
    {
     "data": {
      "text/plain": [
       "\"Hello! I'm an AI assistant here to help you with your questions and tasks. How can I assist you today?\""
      ]
     },
     "execution_count": 21,
     "metadata": {},
     "output_type": "execute_result"
    }
   ],
   "source": [
    "msg.content"
   ]
  },
  {
   "cell_type": "code",
   "execution_count": 17,
   "id": "40ea0806-d772-4d80-9e2a-15d32fbaa7b6",
   "metadata": {},
   "outputs": [],
   "source": [
    "messages=[HumanMessage(content=\"What operators are in namespace demo?\")]"
   ]
  },
  {
   "cell_type": "code",
   "execution_count": 18,
   "id": "b251676e-c9d7-4826-b4ee-3b0dadbe99a7",
   "metadata": {},
   "outputs": [],
   "source": [
    "messages = react_graph.invoke({\"messages\": messages})"
   ]
  },
  {
   "cell_type": "code",
   "execution_count": 19,
   "id": "16c0aca0-e465-44cf-9c39-df02508a2284",
   "metadata": {
    "scrolled": true
   },
   "outputs": [
    {
     "name": "stdout",
     "output_type": "stream",
     "text": [
      "================================\u001b[1m Human Message \u001b[0m=================================\n",
      "\n",
      "What operators are in namespace demo?\n",
      "==================================\u001b[1m Ai Message \u001b[0m==================================\n",
      "Tool Calls:\n",
      "  tool_list_openshift_operators (call_b0UQ0D8LPITD8btFiUkAAJQU)\n",
      " Call ID: call_b0UQ0D8LPITD8btFiUkAAJQU\n",
      "  Args:\n",
      "    namespace: demo\n",
      "=================================\u001b[1m Tool Message \u001b[0m=================================\n",
      "Name: tool_list_openshift_operators\n",
      "\n",
      "[{\"name\": \"authorino-operator\", \"namespace\": \"demo\", \"version\": \"1.2.2\", \"status\": \"Succeeded\"}, {\"name\": \"kiali-operator\", \"namespace\": \"demo\", \"version\": \"2.11.3\", \"status\": \"Succeeded\"}, {\"name\": \"openshift-pipelines-operator-rh\", \"namespace\": \"demo\", \"version\": \"1.19.3\", \"status\": \"Succeeded\"}, {\"name\": \"prometheusoperator\", \"namespace\": \"demo\", \"version\": \"0.56.3\", \"status\": \"Succeeded\"}, {\"name\": \"rhods-operator\", \"namespace\": \"demo\", \"version\": \"2.22.1\", \"status\": \"Succeeded\"}, {\"name\": \"serverless-operator\", \"namespace\": \"demo\", \"version\": \"1.36.0\", \"status\": \"Succeeded\"}, {\"name\": \"servicemeshoperator\", \"namespace\": \"demo\", \"version\": \"2.6.10-0\", \"status\": \"Succeeded\"}, {\"name\": \"tempo-operator\", \"namespace\": \"demo\", \"version\": \"0.16.0-2\", \"status\": \"Succeeded\"}]\n",
      "==================================\u001b[1m Ai Message \u001b[0m==================================\n",
      "\n",
      "In the namespace \"demo\", the following operators are installed:\n",
      "\n",
      "1. **Authorino Operator**\n",
      "   - Version: 1.2.2\n",
      "   - Status: Succeeded\n",
      "\n",
      "2. **Kiali Operator**\n",
      "   - Version: 2.11.3\n",
      "   - Status: Succeeded\n",
      "\n",
      "3. **OpenShift Pipelines Operator RH**\n",
      "   - Version: 1.19.3\n",
      "   - Status: Succeeded\n",
      "\n",
      "4. **Prometheus Operator**\n",
      "   - Version: 0.56.3\n",
      "   - Status: Succeeded\n",
      "\n",
      "5. **RHODS Operator**\n",
      "   - Version: 2.22.1\n",
      "   - Status: Succeeded\n",
      "\n",
      "6. **Serverless Operator**\n",
      "   - Version: 1.36.0\n",
      "   - Status: Succeeded\n",
      "\n",
      "7. **Service Mesh Operator**\n",
      "   - Version: 2.6.10-0\n",
      "   - Status: Succeeded\n",
      "\n",
      "8. **Tempo Operator**\n",
      "   - Version: 0.16.0-2\n",
      "   - Status: Succeeded\n"
     ]
    }
   ],
   "source": [
    "for m in messages['messages']:\n",
    "    m.pretty_print()"
   ]
  },
  {
   "cell_type": "code",
   "execution_count": 20,
   "id": "8da6062f-7968-4a3c-8659-f0bea88236be",
   "metadata": {},
   "outputs": [
    {
     "name": "stdout",
     "output_type": "stream",
     "text": [
      "==================================\u001b[1m Ai Message \u001b[0m==================================\n",
      "\n",
      "In the namespace \"demo\", the following operators are installed:\n",
      "\n",
      "1. **Authorino Operator**\n",
      "   - Version: 1.2.2\n",
      "   - Status: Succeeded\n",
      "\n",
      "2. **Kiali Operator**\n",
      "   - Version: 2.11.3\n",
      "   - Status: Succeeded\n",
      "\n",
      "3. **OpenShift Pipelines Operator RH**\n",
      "   - Version: 1.19.3\n",
      "   - Status: Succeeded\n",
      "\n",
      "4. **Prometheus Operator**\n",
      "   - Version: 0.56.3\n",
      "   - Status: Succeeded\n",
      "\n",
      "5. **RHODS Operator**\n",
      "   - Version: 2.22.1\n",
      "   - Status: Succeeded\n",
      "\n",
      "6. **Serverless Operator**\n",
      "   - Version: 1.36.0\n",
      "   - Status: Succeeded\n",
      "\n",
      "7. **Service Mesh Operator**\n",
      "   - Version: 2.6.10-0\n",
      "   - Status: Succeeded\n",
      "\n",
      "8. **Tempo Operator**\n",
      "   - Version: 0.16.0-2\n",
      "   - Status: Succeeded\n"
     ]
    }
   ],
   "source": [
    "messages[\"messages\"][-1].pretty_print()"
   ]
  },
  {
   "cell_type": "code",
   "execution_count": 21,
   "id": "a96fe3d7-6a24-41f4-8b10-8fa7f3ed8d62",
   "metadata": {},
   "outputs": [],
   "source": [
    "messages=[HumanMessage(content=\"What configuration of WireMock supports a throughput KPI of 307 within a 2.9 percent precision? Search for 100 epochs to find the result.\")]"
   ]
  },
  {
   "cell_type": "code",
   "execution_count": 22,
   "id": "467836ff-f0e9-40ba-951f-c53ecedaf60c",
   "metadata": {
    "scrolled": true
   },
   "outputs": [
    {
     "name": "stderr",
     "output_type": "stream",
     "text": [
      "/opt/app-root/lib64/python3.11/site-packages/urllib3/connectionpool.py:1097: InsecureRequestWarning: Unverified HTTPS request is being made to host 'mlasp-mlasp-datascience.apps.cluster-nr48j.nr48j.sandbox1693.opentlc.com'. Adding certificate verification is strongly advised. See: https://urllib3.readthedocs.io/en/latest/advanced-usage.html#tls-warnings\n",
      "  warnings.warn(\n",
      "/opt/app-root/lib64/python3.11/site-packages/urllib3/connectionpool.py:1097: InsecureRequestWarning: Unverified HTTPS request is being made to host 'mlasp-mlasp-datascience.apps.cluster-nr48j.nr48j.sandbox1693.opentlc.com'. Adding certificate verification is strongly advised. See: https://urllib3.readthedocs.io/en/latest/advanced-usage.html#tls-warnings\n",
      "  warnings.warn(\n",
      "/opt/app-root/lib64/python3.11/site-packages/urllib3/connectionpool.py:1097: InsecureRequestWarning: Unverified HTTPS request is being made to host 'mlasp-mlasp-datascience.apps.cluster-nr48j.nr48j.sandbox1693.opentlc.com'. Adding certificate verification is strongly advised. See: https://urllib3.readthedocs.io/en/latest/advanced-usage.html#tls-warnings\n",
      "  warnings.warn(\n",
      "/opt/app-root/lib64/python3.11/site-packages/urllib3/connectionpool.py:1097: InsecureRequestWarning: Unverified HTTPS request is being made to host 'mlasp-mlasp-datascience.apps.cluster-nr48j.nr48j.sandbox1693.opentlc.com'. Adding certificate verification is strongly advised. See: https://urllib3.readthedocs.io/en/latest/advanced-usage.html#tls-warnings\n",
      "  warnings.warn(\n",
      "/opt/app-root/lib64/python3.11/site-packages/urllib3/connectionpool.py:1097: InsecureRequestWarning: Unverified HTTPS request is being made to host 'mlasp-mlasp-datascience.apps.cluster-nr48j.nr48j.sandbox1693.opentlc.com'. Adding certificate verification is strongly advised. See: https://urllib3.readthedocs.io/en/latest/advanced-usage.html#tls-warnings\n",
      "  warnings.warn(\n",
      "/opt/app-root/lib64/python3.11/site-packages/urllib3/connectionpool.py:1097: InsecureRequestWarning: Unverified HTTPS request is being made to host 'mlasp-mlasp-datascience.apps.cluster-nr48j.nr48j.sandbox1693.opentlc.com'. Adding certificate verification is strongly advised. See: https://urllib3.readthedocs.io/en/latest/advanced-usage.html#tls-warnings\n",
      "  warnings.warn(\n",
      "/opt/app-root/lib64/python3.11/site-packages/urllib3/connectionpool.py:1097: InsecureRequestWarning: Unverified HTTPS request is being made to host 'mlasp-mlasp-datascience.apps.cluster-nr48j.nr48j.sandbox1693.opentlc.com'. Adding certificate verification is strongly advised. See: https://urllib3.readthedocs.io/en/latest/advanced-usage.html#tls-warnings\n",
      "  warnings.warn(\n",
      "/opt/app-root/lib64/python3.11/site-packages/urllib3/connectionpool.py:1097: InsecureRequestWarning: Unverified HTTPS request is being made to host 'mlasp-mlasp-datascience.apps.cluster-nr48j.nr48j.sandbox1693.opentlc.com'. Adding certificate verification is strongly advised. See: https://urllib3.readthedocs.io/en/latest/advanced-usage.html#tls-warnings\n",
      "  warnings.warn(\n",
      "/opt/app-root/lib64/python3.11/site-packages/urllib3/connectionpool.py:1097: InsecureRequestWarning: Unverified HTTPS request is being made to host 'mlasp-mlasp-datascience.apps.cluster-nr48j.nr48j.sandbox1693.opentlc.com'. Adding certificate verification is strongly advised. See: https://urllib3.readthedocs.io/en/latest/advanced-usage.html#tls-warnings\n",
      "  warnings.warn(\n",
      "/opt/app-root/lib64/python3.11/site-packages/urllib3/connectionpool.py:1097: InsecureRequestWarning: Unverified HTTPS request is being made to host 'mlasp-mlasp-datascience.apps.cluster-nr48j.nr48j.sandbox1693.opentlc.com'. Adding certificate verification is strongly advised. See: https://urllib3.readthedocs.io/en/latest/advanced-usage.html#tls-warnings\n",
      "  warnings.warn(\n",
      "/opt/app-root/lib64/python3.11/site-packages/urllib3/connectionpool.py:1097: InsecureRequestWarning: Unverified HTTPS request is being made to host 'mlasp-mlasp-datascience.apps.cluster-nr48j.nr48j.sandbox1693.opentlc.com'. Adding certificate verification is strongly advised. See: https://urllib3.readthedocs.io/en/latest/advanced-usage.html#tls-warnings\n",
      "  warnings.warn(\n",
      "/opt/app-root/lib64/python3.11/site-packages/urllib3/connectionpool.py:1097: InsecureRequestWarning: Unverified HTTPS request is being made to host 'mlasp-mlasp-datascience.apps.cluster-nr48j.nr48j.sandbox1693.opentlc.com'. Adding certificate verification is strongly advised. See: https://urllib3.readthedocs.io/en/latest/advanced-usage.html#tls-warnings\n",
      "  warnings.warn(\n",
      "/opt/app-root/lib64/python3.11/site-packages/urllib3/connectionpool.py:1097: InsecureRequestWarning: Unverified HTTPS request is being made to host 'mlasp-mlasp-datascience.apps.cluster-nr48j.nr48j.sandbox1693.opentlc.com'. Adding certificate verification is strongly advised. See: https://urllib3.readthedocs.io/en/latest/advanced-usage.html#tls-warnings\n",
      "  warnings.warn(\n",
      "/opt/app-root/lib64/python3.11/site-packages/urllib3/connectionpool.py:1097: InsecureRequestWarning: Unverified HTTPS request is being made to host 'mlasp-mlasp-datascience.apps.cluster-nr48j.nr48j.sandbox1693.opentlc.com'. Adding certificate verification is strongly advised. See: https://urllib3.readthedocs.io/en/latest/advanced-usage.html#tls-warnings\n",
      "  warnings.warn(\n",
      "/opt/app-root/lib64/python3.11/site-packages/urllib3/connectionpool.py:1097: InsecureRequestWarning: Unverified HTTPS request is being made to host 'mlasp-mlasp-datascience.apps.cluster-nr48j.nr48j.sandbox1693.opentlc.com'. Adding certificate verification is strongly advised. See: https://urllib3.readthedocs.io/en/latest/advanced-usage.html#tls-warnings\n",
      "  warnings.warn(\n",
      "/opt/app-root/lib64/python3.11/site-packages/urllib3/connectionpool.py:1097: InsecureRequestWarning: Unverified HTTPS request is being made to host 'mlasp-mlasp-datascience.apps.cluster-nr48j.nr48j.sandbox1693.opentlc.com'. Adding certificate verification is strongly advised. See: https://urllib3.readthedocs.io/en/latest/advanced-usage.html#tls-warnings\n",
      "  warnings.warn(\n",
      "/opt/app-root/lib64/python3.11/site-packages/urllib3/connectionpool.py:1097: InsecureRequestWarning: Unverified HTTPS request is being made to host 'mlasp-mlasp-datascience.apps.cluster-nr48j.nr48j.sandbox1693.opentlc.com'. Adding certificate verification is strongly advised. See: https://urllib3.readthedocs.io/en/latest/advanced-usage.html#tls-warnings\n",
      "  warnings.warn(\n",
      "/opt/app-root/lib64/python3.11/site-packages/urllib3/connectionpool.py:1097: InsecureRequestWarning: Unverified HTTPS request is being made to host 'mlasp-mlasp-datascience.apps.cluster-nr48j.nr48j.sandbox1693.opentlc.com'. Adding certificate verification is strongly advised. See: https://urllib3.readthedocs.io/en/latest/advanced-usage.html#tls-warnings\n",
      "  warnings.warn(\n",
      "/opt/app-root/lib64/python3.11/site-packages/urllib3/connectionpool.py:1097: InsecureRequestWarning: Unverified HTTPS request is being made to host 'mlasp-mlasp-datascience.apps.cluster-nr48j.nr48j.sandbox1693.opentlc.com'. Adding certificate verification is strongly advised. See: https://urllib3.readthedocs.io/en/latest/advanced-usage.html#tls-warnings\n",
      "  warnings.warn(\n",
      "/opt/app-root/lib64/python3.11/site-packages/urllib3/connectionpool.py:1097: InsecureRequestWarning: Unverified HTTPS request is being made to host 'mlasp-mlasp-datascience.apps.cluster-nr48j.nr48j.sandbox1693.opentlc.com'. Adding certificate verification is strongly advised. See: https://urllib3.readthedocs.io/en/latest/advanced-usage.html#tls-warnings\n",
      "  warnings.warn(\n",
      "/opt/app-root/lib64/python3.11/site-packages/urllib3/connectionpool.py:1097: InsecureRequestWarning: Unverified HTTPS request is being made to host 'mlasp-mlasp-datascience.apps.cluster-nr48j.nr48j.sandbox1693.opentlc.com'. Adding certificate verification is strongly advised. See: https://urllib3.readthedocs.io/en/latest/advanced-usage.html#tls-warnings\n",
      "  warnings.warn(\n",
      "/opt/app-root/lib64/python3.11/site-packages/urllib3/connectionpool.py:1097: InsecureRequestWarning: Unverified HTTPS request is being made to host 'mlasp-mlasp-datascience.apps.cluster-nr48j.nr48j.sandbox1693.opentlc.com'. Adding certificate verification is strongly advised. See: https://urllib3.readthedocs.io/en/latest/advanced-usage.html#tls-warnings\n",
      "  warnings.warn(\n",
      "/opt/app-root/lib64/python3.11/site-packages/urllib3/connectionpool.py:1097: InsecureRequestWarning: Unverified HTTPS request is being made to host 'mlasp-mlasp-datascience.apps.cluster-nr48j.nr48j.sandbox1693.opentlc.com'. Adding certificate verification is strongly advised. See: https://urllib3.readthedocs.io/en/latest/advanced-usage.html#tls-warnings\n",
      "  warnings.warn(\n",
      "/opt/app-root/lib64/python3.11/site-packages/urllib3/connectionpool.py:1097: InsecureRequestWarning: Unverified HTTPS request is being made to host 'mlasp-mlasp-datascience.apps.cluster-nr48j.nr48j.sandbox1693.opentlc.com'. Adding certificate verification is strongly advised. See: https://urllib3.readthedocs.io/en/latest/advanced-usage.html#tls-warnings\n",
      "  warnings.warn(\n",
      "/opt/app-root/lib64/python3.11/site-packages/urllib3/connectionpool.py:1097: InsecureRequestWarning: Unverified HTTPS request is being made to host 'mlasp-mlasp-datascience.apps.cluster-nr48j.nr48j.sandbox1693.opentlc.com'. Adding certificate verification is strongly advised. See: https://urllib3.readthedocs.io/en/latest/advanced-usage.html#tls-warnings\n",
      "  warnings.warn(\n",
      "/opt/app-root/lib64/python3.11/site-packages/urllib3/connectionpool.py:1097: InsecureRequestWarning: Unverified HTTPS request is being made to host 'mlasp-mlasp-datascience.apps.cluster-nr48j.nr48j.sandbox1693.opentlc.com'. Adding certificate verification is strongly advised. See: https://urllib3.readthedocs.io/en/latest/advanced-usage.html#tls-warnings\n",
      "  warnings.warn(\n",
      "/opt/app-root/lib64/python3.11/site-packages/urllib3/connectionpool.py:1097: InsecureRequestWarning: Unverified HTTPS request is being made to host 'mlasp-mlasp-datascience.apps.cluster-nr48j.nr48j.sandbox1693.opentlc.com'. Adding certificate verification is strongly advised. See: https://urllib3.readthedocs.io/en/latest/advanced-usage.html#tls-warnings\n",
      "  warnings.warn(\n",
      "/opt/app-root/lib64/python3.11/site-packages/urllib3/connectionpool.py:1097: InsecureRequestWarning: Unverified HTTPS request is being made to host 'mlasp-mlasp-datascience.apps.cluster-nr48j.nr48j.sandbox1693.opentlc.com'. Adding certificate verification is strongly advised. See: https://urllib3.readthedocs.io/en/latest/advanced-usage.html#tls-warnings\n",
      "  warnings.warn(\n",
      "/opt/app-root/lib64/python3.11/site-packages/urllib3/connectionpool.py:1097: InsecureRequestWarning: Unverified HTTPS request is being made to host 'mlasp-mlasp-datascience.apps.cluster-nr48j.nr48j.sandbox1693.opentlc.com'. Adding certificate verification is strongly advised. See: https://urllib3.readthedocs.io/en/latest/advanced-usage.html#tls-warnings\n",
      "  warnings.warn(\n",
      "/opt/app-root/lib64/python3.11/site-packages/urllib3/connectionpool.py:1097: InsecureRequestWarning: Unverified HTTPS request is being made to host 'mlasp-mlasp-datascience.apps.cluster-nr48j.nr48j.sandbox1693.opentlc.com'. Adding certificate verification is strongly advised. See: https://urllib3.readthedocs.io/en/latest/advanced-usage.html#tls-warnings\n",
      "  warnings.warn(\n",
      "/opt/app-root/lib64/python3.11/site-packages/urllib3/connectionpool.py:1097: InsecureRequestWarning: Unverified HTTPS request is being made to host 'mlasp-mlasp-datascience.apps.cluster-nr48j.nr48j.sandbox1693.opentlc.com'. Adding certificate verification is strongly advised. See: https://urllib3.readthedocs.io/en/latest/advanced-usage.html#tls-warnings\n",
      "  warnings.warn(\n",
      "/opt/app-root/lib64/python3.11/site-packages/urllib3/connectionpool.py:1097: InsecureRequestWarning: Unverified HTTPS request is being made to host 'mlasp-mlasp-datascience.apps.cluster-nr48j.nr48j.sandbox1693.opentlc.com'. Adding certificate verification is strongly advised. See: https://urllib3.readthedocs.io/en/latest/advanced-usage.html#tls-warnings\n",
      "  warnings.warn(\n",
      "/opt/app-root/lib64/python3.11/site-packages/urllib3/connectionpool.py:1097: InsecureRequestWarning: Unverified HTTPS request is being made to host 'mlasp-mlasp-datascience.apps.cluster-nr48j.nr48j.sandbox1693.opentlc.com'. Adding certificate verification is strongly advised. See: https://urllib3.readthedocs.io/en/latest/advanced-usage.html#tls-warnings\n",
      "  warnings.warn(\n",
      "/opt/app-root/lib64/python3.11/site-packages/urllib3/connectionpool.py:1097: InsecureRequestWarning: Unverified HTTPS request is being made to host 'mlasp-mlasp-datascience.apps.cluster-nr48j.nr48j.sandbox1693.opentlc.com'. Adding certificate verification is strongly advised. See: https://urllib3.readthedocs.io/en/latest/advanced-usage.html#tls-warnings\n",
      "  warnings.warn(\n",
      "/opt/app-root/lib64/python3.11/site-packages/urllib3/connectionpool.py:1097: InsecureRequestWarning: Unverified HTTPS request is being made to host 'mlasp-mlasp-datascience.apps.cluster-nr48j.nr48j.sandbox1693.opentlc.com'. Adding certificate verification is strongly advised. See: https://urllib3.readthedocs.io/en/latest/advanced-usage.html#tls-warnings\n",
      "  warnings.warn(\n",
      "/opt/app-root/lib64/python3.11/site-packages/urllib3/connectionpool.py:1097: InsecureRequestWarning: Unverified HTTPS request is being made to host 'mlasp-mlasp-datascience.apps.cluster-nr48j.nr48j.sandbox1693.opentlc.com'. Adding certificate verification is strongly advised. See: https://urllib3.readthedocs.io/en/latest/advanced-usage.html#tls-warnings\n",
      "  warnings.warn(\n",
      "/opt/app-root/lib64/python3.11/site-packages/urllib3/connectionpool.py:1097: InsecureRequestWarning: Unverified HTTPS request is being made to host 'mlasp-mlasp-datascience.apps.cluster-nr48j.nr48j.sandbox1693.opentlc.com'. Adding certificate verification is strongly advised. See: https://urllib3.readthedocs.io/en/latest/advanced-usage.html#tls-warnings\n",
      "  warnings.warn(\n",
      "/opt/app-root/lib64/python3.11/site-packages/urllib3/connectionpool.py:1097: InsecureRequestWarning: Unverified HTTPS request is being made to host 'mlasp-mlasp-datascience.apps.cluster-nr48j.nr48j.sandbox1693.opentlc.com'. Adding certificate verification is strongly advised. See: https://urllib3.readthedocs.io/en/latest/advanced-usage.html#tls-warnings\n",
      "  warnings.warn(\n",
      "/opt/app-root/lib64/python3.11/site-packages/urllib3/connectionpool.py:1097: InsecureRequestWarning: Unverified HTTPS request is being made to host 'mlasp-mlasp-datascience.apps.cluster-nr48j.nr48j.sandbox1693.opentlc.com'. Adding certificate verification is strongly advised. See: https://urllib3.readthedocs.io/en/latest/advanced-usage.html#tls-warnings\n",
      "  warnings.warn(\n",
      "/opt/app-root/lib64/python3.11/site-packages/urllib3/connectionpool.py:1097: InsecureRequestWarning: Unverified HTTPS request is being made to host 'mlasp-mlasp-datascience.apps.cluster-nr48j.nr48j.sandbox1693.opentlc.com'. Adding certificate verification is strongly advised. See: https://urllib3.readthedocs.io/en/latest/advanced-usage.html#tls-warnings\n",
      "  warnings.warn(\n",
      "/opt/app-root/lib64/python3.11/site-packages/urllib3/connectionpool.py:1097: InsecureRequestWarning: Unverified HTTPS request is being made to host 'mlasp-mlasp-datascience.apps.cluster-nr48j.nr48j.sandbox1693.opentlc.com'. Adding certificate verification is strongly advised. See: https://urllib3.readthedocs.io/en/latest/advanced-usage.html#tls-warnings\n",
      "  warnings.warn(\n",
      "/opt/app-root/lib64/python3.11/site-packages/urllib3/connectionpool.py:1097: InsecureRequestWarning: Unverified HTTPS request is being made to host 'mlasp-mlasp-datascience.apps.cluster-nr48j.nr48j.sandbox1693.opentlc.com'. Adding certificate verification is strongly advised. See: https://urllib3.readthedocs.io/en/latest/advanced-usage.html#tls-warnings\n",
      "  warnings.warn(\n",
      "/opt/app-root/lib64/python3.11/site-packages/urllib3/connectionpool.py:1097: InsecureRequestWarning: Unverified HTTPS request is being made to host 'mlasp-mlasp-datascience.apps.cluster-nr48j.nr48j.sandbox1693.opentlc.com'. Adding certificate verification is strongly advised. See: https://urllib3.readthedocs.io/en/latest/advanced-usage.html#tls-warnings\n",
      "  warnings.warn(\n",
      "/opt/app-root/lib64/python3.11/site-packages/urllib3/connectionpool.py:1097: InsecureRequestWarning: Unverified HTTPS request is being made to host 'mlasp-mlasp-datascience.apps.cluster-nr48j.nr48j.sandbox1693.opentlc.com'. Adding certificate verification is strongly advised. See: https://urllib3.readthedocs.io/en/latest/advanced-usage.html#tls-warnings\n",
      "  warnings.warn(\n",
      "/opt/app-root/lib64/python3.11/site-packages/urllib3/connectionpool.py:1097: InsecureRequestWarning: Unverified HTTPS request is being made to host 'mlasp-mlasp-datascience.apps.cluster-nr48j.nr48j.sandbox1693.opentlc.com'. Adding certificate verification is strongly advised. See: https://urllib3.readthedocs.io/en/latest/advanced-usage.html#tls-warnings\n",
      "  warnings.warn(\n",
      "/opt/app-root/lib64/python3.11/site-packages/urllib3/connectionpool.py:1097: InsecureRequestWarning: Unverified HTTPS request is being made to host 'mlasp-mlasp-datascience.apps.cluster-nr48j.nr48j.sandbox1693.opentlc.com'. Adding certificate verification is strongly advised. See: https://urllib3.readthedocs.io/en/latest/advanced-usage.html#tls-warnings\n",
      "  warnings.warn(\n",
      "/opt/app-root/lib64/python3.11/site-packages/urllib3/connectionpool.py:1097: InsecureRequestWarning: Unverified HTTPS request is being made to host 'mlasp-mlasp-datascience.apps.cluster-nr48j.nr48j.sandbox1693.opentlc.com'. Adding certificate verification is strongly advised. See: https://urllib3.readthedocs.io/en/latest/advanced-usage.html#tls-warnings\n",
      "  warnings.warn(\n",
      "/opt/app-root/lib64/python3.11/site-packages/urllib3/connectionpool.py:1097: InsecureRequestWarning: Unverified HTTPS request is being made to host 'mlasp-mlasp-datascience.apps.cluster-nr48j.nr48j.sandbox1693.opentlc.com'. Adding certificate verification is strongly advised. See: https://urllib3.readthedocs.io/en/latest/advanced-usage.html#tls-warnings\n",
      "  warnings.warn(\n",
      "/opt/app-root/lib64/python3.11/site-packages/urllib3/connectionpool.py:1097: InsecureRequestWarning: Unverified HTTPS request is being made to host 'mlasp-mlasp-datascience.apps.cluster-nr48j.nr48j.sandbox1693.opentlc.com'. Adding certificate verification is strongly advised. See: https://urllib3.readthedocs.io/en/latest/advanced-usage.html#tls-warnings\n",
      "  warnings.warn(\n",
      "/opt/app-root/lib64/python3.11/site-packages/urllib3/connectionpool.py:1097: InsecureRequestWarning: Unverified HTTPS request is being made to host 'mlasp-mlasp-datascience.apps.cluster-nr48j.nr48j.sandbox1693.opentlc.com'. Adding certificate verification is strongly advised. See: https://urllib3.readthedocs.io/en/latest/advanced-usage.html#tls-warnings\n",
      "  warnings.warn(\n",
      "/opt/app-root/lib64/python3.11/site-packages/urllib3/connectionpool.py:1097: InsecureRequestWarning: Unverified HTTPS request is being made to host 'mlasp-mlasp-datascience.apps.cluster-nr48j.nr48j.sandbox1693.opentlc.com'. Adding certificate verification is strongly advised. See: https://urllib3.readthedocs.io/en/latest/advanced-usage.html#tls-warnings\n",
      "  warnings.warn(\n",
      "/opt/app-root/lib64/python3.11/site-packages/urllib3/connectionpool.py:1097: InsecureRequestWarning: Unverified HTTPS request is being made to host 'mlasp-mlasp-datascience.apps.cluster-nr48j.nr48j.sandbox1693.opentlc.com'. Adding certificate verification is strongly advised. See: https://urllib3.readthedocs.io/en/latest/advanced-usage.html#tls-warnings\n",
      "  warnings.warn(\n",
      "/opt/app-root/lib64/python3.11/site-packages/urllib3/connectionpool.py:1097: InsecureRequestWarning: Unverified HTTPS request is being made to host 'mlasp-mlasp-datascience.apps.cluster-nr48j.nr48j.sandbox1693.opentlc.com'. Adding certificate verification is strongly advised. See: https://urllib3.readthedocs.io/en/latest/advanced-usage.html#tls-warnings\n",
      "  warnings.warn(\n",
      "/opt/app-root/lib64/python3.11/site-packages/urllib3/connectionpool.py:1097: InsecureRequestWarning: Unverified HTTPS request is being made to host 'mlasp-mlasp-datascience.apps.cluster-nr48j.nr48j.sandbox1693.opentlc.com'. Adding certificate verification is strongly advised. See: https://urllib3.readthedocs.io/en/latest/advanced-usage.html#tls-warnings\n",
      "  warnings.warn(\n",
      "/opt/app-root/lib64/python3.11/site-packages/urllib3/connectionpool.py:1097: InsecureRequestWarning: Unverified HTTPS request is being made to host 'mlasp-mlasp-datascience.apps.cluster-nr48j.nr48j.sandbox1693.opentlc.com'. Adding certificate verification is strongly advised. See: https://urllib3.readthedocs.io/en/latest/advanced-usage.html#tls-warnings\n",
      "  warnings.warn(\n",
      "/opt/app-root/lib64/python3.11/site-packages/urllib3/connectionpool.py:1097: InsecureRequestWarning: Unverified HTTPS request is being made to host 'mlasp-mlasp-datascience.apps.cluster-nr48j.nr48j.sandbox1693.opentlc.com'. Adding certificate verification is strongly advised. See: https://urllib3.readthedocs.io/en/latest/advanced-usage.html#tls-warnings\n",
      "  warnings.warn(\n",
      "/opt/app-root/lib64/python3.11/site-packages/urllib3/connectionpool.py:1097: InsecureRequestWarning: Unverified HTTPS request is being made to host 'mlasp-mlasp-datascience.apps.cluster-nr48j.nr48j.sandbox1693.opentlc.com'. Adding certificate verification is strongly advised. See: https://urllib3.readthedocs.io/en/latest/advanced-usage.html#tls-warnings\n",
      "  warnings.warn(\n",
      "/opt/app-root/lib64/python3.11/site-packages/urllib3/connectionpool.py:1097: InsecureRequestWarning: Unverified HTTPS request is being made to host 'mlasp-mlasp-datascience.apps.cluster-nr48j.nr48j.sandbox1693.opentlc.com'. Adding certificate verification is strongly advised. See: https://urllib3.readthedocs.io/en/latest/advanced-usage.html#tls-warnings\n",
      "  warnings.warn(\n",
      "/opt/app-root/lib64/python3.11/site-packages/urllib3/connectionpool.py:1097: InsecureRequestWarning: Unverified HTTPS request is being made to host 'mlasp-mlasp-datascience.apps.cluster-nr48j.nr48j.sandbox1693.opentlc.com'. Adding certificate verification is strongly advised. See: https://urllib3.readthedocs.io/en/latest/advanced-usage.html#tls-warnings\n",
      "  warnings.warn(\n",
      "/opt/app-root/lib64/python3.11/site-packages/urllib3/connectionpool.py:1097: InsecureRequestWarning: Unverified HTTPS request is being made to host 'mlasp-mlasp-datascience.apps.cluster-nr48j.nr48j.sandbox1693.opentlc.com'. Adding certificate verification is strongly advised. See: https://urllib3.readthedocs.io/en/latest/advanced-usage.html#tls-warnings\n",
      "  warnings.warn(\n",
      "/opt/app-root/lib64/python3.11/site-packages/urllib3/connectionpool.py:1097: InsecureRequestWarning: Unverified HTTPS request is being made to host 'mlasp-mlasp-datascience.apps.cluster-nr48j.nr48j.sandbox1693.opentlc.com'. Adding certificate verification is strongly advised. See: https://urllib3.readthedocs.io/en/latest/advanced-usage.html#tls-warnings\n",
      "  warnings.warn(\n",
      "/opt/app-root/lib64/python3.11/site-packages/urllib3/connectionpool.py:1097: InsecureRequestWarning: Unverified HTTPS request is being made to host 'mlasp-mlasp-datascience.apps.cluster-nr48j.nr48j.sandbox1693.opentlc.com'. Adding certificate verification is strongly advised. See: https://urllib3.readthedocs.io/en/latest/advanced-usage.html#tls-warnings\n",
      "  warnings.warn(\n",
      "/opt/app-root/lib64/python3.11/site-packages/urllib3/connectionpool.py:1097: InsecureRequestWarning: Unverified HTTPS request is being made to host 'mlasp-mlasp-datascience.apps.cluster-nr48j.nr48j.sandbox1693.opentlc.com'. Adding certificate verification is strongly advised. See: https://urllib3.readthedocs.io/en/latest/advanced-usage.html#tls-warnings\n",
      "  warnings.warn(\n",
      "/opt/app-root/lib64/python3.11/site-packages/urllib3/connectionpool.py:1097: InsecureRequestWarning: Unverified HTTPS request is being made to host 'mlasp-mlasp-datascience.apps.cluster-nr48j.nr48j.sandbox1693.opentlc.com'. Adding certificate verification is strongly advised. See: https://urllib3.readthedocs.io/en/latest/advanced-usage.html#tls-warnings\n",
      "  warnings.warn(\n",
      "/opt/app-root/lib64/python3.11/site-packages/urllib3/connectionpool.py:1097: InsecureRequestWarning: Unverified HTTPS request is being made to host 'mlasp-mlasp-datascience.apps.cluster-nr48j.nr48j.sandbox1693.opentlc.com'. Adding certificate verification is strongly advised. See: https://urllib3.readthedocs.io/en/latest/advanced-usage.html#tls-warnings\n",
      "  warnings.warn(\n",
      "/opt/app-root/lib64/python3.11/site-packages/urllib3/connectionpool.py:1097: InsecureRequestWarning: Unverified HTTPS request is being made to host 'mlasp-mlasp-datascience.apps.cluster-nr48j.nr48j.sandbox1693.opentlc.com'. Adding certificate verification is strongly advised. See: https://urllib3.readthedocs.io/en/latest/advanced-usage.html#tls-warnings\n",
      "  warnings.warn(\n",
      "/opt/app-root/lib64/python3.11/site-packages/urllib3/connectionpool.py:1097: InsecureRequestWarning: Unverified HTTPS request is being made to host 'mlasp-mlasp-datascience.apps.cluster-nr48j.nr48j.sandbox1693.opentlc.com'. Adding certificate verification is strongly advised. See: https://urllib3.readthedocs.io/en/latest/advanced-usage.html#tls-warnings\n",
      "  warnings.warn(\n",
      "/opt/app-root/lib64/python3.11/site-packages/urllib3/connectionpool.py:1097: InsecureRequestWarning: Unverified HTTPS request is being made to host 'mlasp-mlasp-datascience.apps.cluster-nr48j.nr48j.sandbox1693.opentlc.com'. Adding certificate verification is strongly advised. See: https://urllib3.readthedocs.io/en/latest/advanced-usage.html#tls-warnings\n",
      "  warnings.warn(\n",
      "/opt/app-root/lib64/python3.11/site-packages/urllib3/connectionpool.py:1097: InsecureRequestWarning: Unverified HTTPS request is being made to host 'mlasp-mlasp-datascience.apps.cluster-nr48j.nr48j.sandbox1693.opentlc.com'. Adding certificate verification is strongly advised. See: https://urllib3.readthedocs.io/en/latest/advanced-usage.html#tls-warnings\n",
      "  warnings.warn(\n",
      "/opt/app-root/lib64/python3.11/site-packages/urllib3/connectionpool.py:1097: InsecureRequestWarning: Unverified HTTPS request is being made to host 'mlasp-mlasp-datascience.apps.cluster-nr48j.nr48j.sandbox1693.opentlc.com'. Adding certificate verification is strongly advised. See: https://urllib3.readthedocs.io/en/latest/advanced-usage.html#tls-warnings\n",
      "  warnings.warn(\n",
      "/opt/app-root/lib64/python3.11/site-packages/urllib3/connectionpool.py:1097: InsecureRequestWarning: Unverified HTTPS request is being made to host 'mlasp-mlasp-datascience.apps.cluster-nr48j.nr48j.sandbox1693.opentlc.com'. Adding certificate verification is strongly advised. See: https://urllib3.readthedocs.io/en/latest/advanced-usage.html#tls-warnings\n",
      "  warnings.warn(\n",
      "/opt/app-root/lib64/python3.11/site-packages/urllib3/connectionpool.py:1097: InsecureRequestWarning: Unverified HTTPS request is being made to host 'mlasp-mlasp-datascience.apps.cluster-nr48j.nr48j.sandbox1693.opentlc.com'. Adding certificate verification is strongly advised. See: https://urllib3.readthedocs.io/en/latest/advanced-usage.html#tls-warnings\n",
      "  warnings.warn(\n",
      "/opt/app-root/lib64/python3.11/site-packages/urllib3/connectionpool.py:1097: InsecureRequestWarning: Unverified HTTPS request is being made to host 'mlasp-mlasp-datascience.apps.cluster-nr48j.nr48j.sandbox1693.opentlc.com'. Adding certificate verification is strongly advised. See: https://urllib3.readthedocs.io/en/latest/advanced-usage.html#tls-warnings\n",
      "  warnings.warn(\n",
      "/opt/app-root/lib64/python3.11/site-packages/urllib3/connectionpool.py:1097: InsecureRequestWarning: Unverified HTTPS request is being made to host 'mlasp-mlasp-datascience.apps.cluster-nr48j.nr48j.sandbox1693.opentlc.com'. Adding certificate verification is strongly advised. See: https://urllib3.readthedocs.io/en/latest/advanced-usage.html#tls-warnings\n",
      "  warnings.warn(\n",
      "/opt/app-root/lib64/python3.11/site-packages/urllib3/connectionpool.py:1097: InsecureRequestWarning: Unverified HTTPS request is being made to host 'mlasp-mlasp-datascience.apps.cluster-nr48j.nr48j.sandbox1693.opentlc.com'. Adding certificate verification is strongly advised. See: https://urllib3.readthedocs.io/en/latest/advanced-usage.html#tls-warnings\n",
      "  warnings.warn(\n",
      "/opt/app-root/lib64/python3.11/site-packages/urllib3/connectionpool.py:1097: InsecureRequestWarning: Unverified HTTPS request is being made to host 'mlasp-mlasp-datascience.apps.cluster-nr48j.nr48j.sandbox1693.opentlc.com'. Adding certificate verification is strongly advised. See: https://urllib3.readthedocs.io/en/latest/advanced-usage.html#tls-warnings\n",
      "  warnings.warn(\n",
      "/opt/app-root/lib64/python3.11/site-packages/urllib3/connectionpool.py:1097: InsecureRequestWarning: Unverified HTTPS request is being made to host 'mlasp-mlasp-datascience.apps.cluster-nr48j.nr48j.sandbox1693.opentlc.com'. Adding certificate verification is strongly advised. See: https://urllib3.readthedocs.io/en/latest/advanced-usage.html#tls-warnings\n",
      "  warnings.warn(\n",
      "/opt/app-root/lib64/python3.11/site-packages/urllib3/connectionpool.py:1097: InsecureRequestWarning: Unverified HTTPS request is being made to host 'mlasp-mlasp-datascience.apps.cluster-nr48j.nr48j.sandbox1693.opentlc.com'. Adding certificate verification is strongly advised. See: https://urllib3.readthedocs.io/en/latest/advanced-usage.html#tls-warnings\n",
      "  warnings.warn(\n",
      "/opt/app-root/lib64/python3.11/site-packages/urllib3/connectionpool.py:1097: InsecureRequestWarning: Unverified HTTPS request is being made to host 'mlasp-mlasp-datascience.apps.cluster-nr48j.nr48j.sandbox1693.opentlc.com'. Adding certificate verification is strongly advised. See: https://urllib3.readthedocs.io/en/latest/advanced-usage.html#tls-warnings\n",
      "  warnings.warn(\n",
      "/opt/app-root/lib64/python3.11/site-packages/urllib3/connectionpool.py:1097: InsecureRequestWarning: Unverified HTTPS request is being made to host 'mlasp-mlasp-datascience.apps.cluster-nr48j.nr48j.sandbox1693.opentlc.com'. Adding certificate verification is strongly advised. See: https://urllib3.readthedocs.io/en/latest/advanced-usage.html#tls-warnings\n",
      "  warnings.warn(\n",
      "/opt/app-root/lib64/python3.11/site-packages/urllib3/connectionpool.py:1097: InsecureRequestWarning: Unverified HTTPS request is being made to host 'mlasp-mlasp-datascience.apps.cluster-nr48j.nr48j.sandbox1693.opentlc.com'. Adding certificate verification is strongly advised. See: https://urllib3.readthedocs.io/en/latest/advanced-usage.html#tls-warnings\n",
      "  warnings.warn(\n",
      "/opt/app-root/lib64/python3.11/site-packages/urllib3/connectionpool.py:1097: InsecureRequestWarning: Unverified HTTPS request is being made to host 'mlasp-mlasp-datascience.apps.cluster-nr48j.nr48j.sandbox1693.opentlc.com'. Adding certificate verification is strongly advised. See: https://urllib3.readthedocs.io/en/latest/advanced-usage.html#tls-warnings\n",
      "  warnings.warn(\n",
      "/opt/app-root/lib64/python3.11/site-packages/urllib3/connectionpool.py:1097: InsecureRequestWarning: Unverified HTTPS request is being made to host 'mlasp-mlasp-datascience.apps.cluster-nr48j.nr48j.sandbox1693.opentlc.com'. Adding certificate verification is strongly advised. See: https://urllib3.readthedocs.io/en/latest/advanced-usage.html#tls-warnings\n",
      "  warnings.warn(\n",
      "/opt/app-root/lib64/python3.11/site-packages/urllib3/connectionpool.py:1097: InsecureRequestWarning: Unverified HTTPS request is being made to host 'mlasp-mlasp-datascience.apps.cluster-nr48j.nr48j.sandbox1693.opentlc.com'. Adding certificate verification is strongly advised. See: https://urllib3.readthedocs.io/en/latest/advanced-usage.html#tls-warnings\n",
      "  warnings.warn(\n",
      "/opt/app-root/lib64/python3.11/site-packages/urllib3/connectionpool.py:1097: InsecureRequestWarning: Unverified HTTPS request is being made to host 'mlasp-mlasp-datascience.apps.cluster-nr48j.nr48j.sandbox1693.opentlc.com'. Adding certificate verification is strongly advised. See: https://urllib3.readthedocs.io/en/latest/advanced-usage.html#tls-warnings\n",
      "  warnings.warn(\n",
      "/opt/app-root/lib64/python3.11/site-packages/urllib3/connectionpool.py:1097: InsecureRequestWarning: Unverified HTTPS request is being made to host 'mlasp-mlasp-datascience.apps.cluster-nr48j.nr48j.sandbox1693.opentlc.com'. Adding certificate verification is strongly advised. See: https://urllib3.readthedocs.io/en/latest/advanced-usage.html#tls-warnings\n",
      "  warnings.warn(\n",
      "/opt/app-root/lib64/python3.11/site-packages/urllib3/connectionpool.py:1097: InsecureRequestWarning: Unverified HTTPS request is being made to host 'mlasp-mlasp-datascience.apps.cluster-nr48j.nr48j.sandbox1693.opentlc.com'. Adding certificate verification is strongly advised. See: https://urllib3.readthedocs.io/en/latest/advanced-usage.html#tls-warnings\n",
      "  warnings.warn(\n",
      "/opt/app-root/lib64/python3.11/site-packages/urllib3/connectionpool.py:1097: InsecureRequestWarning: Unverified HTTPS request is being made to host 'mlasp-mlasp-datascience.apps.cluster-nr48j.nr48j.sandbox1693.opentlc.com'. Adding certificate verification is strongly advised. See: https://urllib3.readthedocs.io/en/latest/advanced-usage.html#tls-warnings\n",
      "  warnings.warn(\n",
      "/opt/app-root/lib64/python3.11/site-packages/urllib3/connectionpool.py:1097: InsecureRequestWarning: Unverified HTTPS request is being made to host 'mlasp-mlasp-datascience.apps.cluster-nr48j.nr48j.sandbox1693.opentlc.com'. Adding certificate verification is strongly advised. See: https://urllib3.readthedocs.io/en/latest/advanced-usage.html#tls-warnings\n",
      "  warnings.warn(\n",
      "/opt/app-root/lib64/python3.11/site-packages/urllib3/connectionpool.py:1097: InsecureRequestWarning: Unverified HTTPS request is being made to host 'mlasp-mlasp-datascience.apps.cluster-nr48j.nr48j.sandbox1693.opentlc.com'. Adding certificate verification is strongly advised. See: https://urllib3.readthedocs.io/en/latest/advanced-usage.html#tls-warnings\n",
      "  warnings.warn(\n",
      "/opt/app-root/lib64/python3.11/site-packages/urllib3/connectionpool.py:1097: InsecureRequestWarning: Unverified HTTPS request is being made to host 'mlasp-mlasp-datascience.apps.cluster-nr48j.nr48j.sandbox1693.opentlc.com'. Adding certificate verification is strongly advised. See: https://urllib3.readthedocs.io/en/latest/advanced-usage.html#tls-warnings\n",
      "  warnings.warn(\n",
      "/opt/app-root/lib64/python3.11/site-packages/urllib3/connectionpool.py:1097: InsecureRequestWarning: Unverified HTTPS request is being made to host 'mlasp-mlasp-datascience.apps.cluster-nr48j.nr48j.sandbox1693.opentlc.com'. Adding certificate verification is strongly advised. See: https://urllib3.readthedocs.io/en/latest/advanced-usage.html#tls-warnings\n",
      "  warnings.warn(\n",
      "/opt/app-root/lib64/python3.11/site-packages/urllib3/connectionpool.py:1097: InsecureRequestWarning: Unverified HTTPS request is being made to host 'mlasp-mlasp-datascience.apps.cluster-nr48j.nr48j.sandbox1693.opentlc.com'. Adding certificate verification is strongly advised. See: https://urllib3.readthedocs.io/en/latest/advanced-usage.html#tls-warnings\n",
      "  warnings.warn(\n",
      "/opt/app-root/lib64/python3.11/site-packages/urllib3/connectionpool.py:1097: InsecureRequestWarning: Unverified HTTPS request is being made to host 'mlasp-mlasp-datascience.apps.cluster-nr48j.nr48j.sandbox1693.opentlc.com'. Adding certificate verification is strongly advised. See: https://urllib3.readthedocs.io/en/latest/advanced-usage.html#tls-warnings\n",
      "  warnings.warn(\n",
      "/opt/app-root/lib64/python3.11/site-packages/urllib3/connectionpool.py:1097: InsecureRequestWarning: Unverified HTTPS request is being made to host 'mlasp-mlasp-datascience.apps.cluster-nr48j.nr48j.sandbox1693.opentlc.com'. Adding certificate verification is strongly advised. See: https://urllib3.readthedocs.io/en/latest/advanced-usage.html#tls-warnings\n",
      "  warnings.warn(\n",
      "/opt/app-root/lib64/python3.11/site-packages/urllib3/connectionpool.py:1097: InsecureRequestWarning: Unverified HTTPS request is being made to host 'mlasp-mlasp-datascience.apps.cluster-nr48j.nr48j.sandbox1693.opentlc.com'. Adding certificate verification is strongly advised. See: https://urllib3.readthedocs.io/en/latest/advanced-usage.html#tls-warnings\n",
      "  warnings.warn(\n",
      "/opt/app-root/lib64/python3.11/site-packages/urllib3/connectionpool.py:1097: InsecureRequestWarning: Unverified HTTPS request is being made to host 'mlasp-mlasp-datascience.apps.cluster-nr48j.nr48j.sandbox1693.opentlc.com'. Adding certificate verification is strongly advised. See: https://urllib3.readthedocs.io/en/latest/advanced-usage.html#tls-warnings\n",
      "  warnings.warn(\n",
      "/opt/app-root/lib64/python3.11/site-packages/urllib3/connectionpool.py:1097: InsecureRequestWarning: Unverified HTTPS request is being made to host 'mlasp-mlasp-datascience.apps.cluster-nr48j.nr48j.sandbox1693.opentlc.com'. Adding certificate verification is strongly advised. See: https://urllib3.readthedocs.io/en/latest/advanced-usage.html#tls-warnings\n",
      "  warnings.warn(\n",
      "/opt/app-root/lib64/python3.11/site-packages/urllib3/connectionpool.py:1097: InsecureRequestWarning: Unverified HTTPS request is being made to host 'mlasp-mlasp-datascience.apps.cluster-nr48j.nr48j.sandbox1693.opentlc.com'. Adding certificate verification is strongly advised. See: https://urllib3.readthedocs.io/en/latest/advanced-usage.html#tls-warnings\n",
      "  warnings.warn(\n",
      "/opt/app-root/lib64/python3.11/site-packages/urllib3/connectionpool.py:1097: InsecureRequestWarning: Unverified HTTPS request is being made to host 'mlasp-mlasp-datascience.apps.cluster-nr48j.nr48j.sandbox1693.opentlc.com'. Adding certificate verification is strongly advised. See: https://urllib3.readthedocs.io/en/latest/advanced-usage.html#tls-warnings\n",
      "  warnings.warn(\n",
      "/tmp/ipykernel_5193/2271626672.py:41: DeprecationWarning: Conversion of an array with ndim > 0 to a scalar is deprecated, and will error in future. Ensure you extract a single element from your array before performing this operation. (Deprecated NumPy 1.25.)\n",
      "  'Prediction': float(predictions[pos])}\n"
     ]
    },
    {
     "name": "stdout",
     "output_type": "stream",
     "text": [
      "================================\u001b[1m Human Message \u001b[0m=================================\n",
      "\n",
      "What configuration of WireMock supports a throughput KPI of 307 within a 2.9 percent precision? Search for 100 epochs to find the result.\n",
      "==================================\u001b[1m Ai Message \u001b[0m==================================\n",
      "Tool Calls:\n",
      "  tool_wiremock_configuration_predictor (call_ow2IbX1HAb6Aa7YE8e55nvu0)\n",
      " Call ID: call_ow2IbX1HAb6Aa7YE8e55nvu0\n",
      "  Args:\n",
      "    epochs: 100\n",
      "    KPI_value: 307\n",
      "    precision: 2.9\n",
      "=================================\u001b[1m Tool Message \u001b[0m=================================\n",
      "Name: tool_wiremock_configuration_predictor\n",
      "\n",
      "{\"Parameters\": {\"asyncResp\": 1, \"asyncRespThreads\": 10, \"cThreads\": 206, \"jacptQSize\": 1614, \"jacptThreads\": 141, \"ltTargetSize\": 10, \"numConnections\": 32, \"timeoutSeconds\": 3}, \"Deviation\": 1.5285337592719506, \"Prediction\": 311.6925986409649}\n",
      "==================================\u001b[1m Ai Message \u001b[0m==================================\n",
      "\n",
      "The configuration of WireMock that supports a throughput KPI of 307 within a 2.9 percent precision is as follows:\n",
      "\n",
      "- **Async Response Enabled**: 1 (true)\n",
      "- **Async Response Threads**: 10\n",
      "- **Connector Threads**: 206\n",
      "- **Jetty Accept Queue Size**: 1614\n",
      "- **Jetty Accept Threads**: 141\n",
      "- **Latency Target Size**: 10\n",
      "- **Number of Connections**: 32\n",
      "- **Timeout in Seconds**: 3\n",
      "\n",
      "This configuration predicts a throughput of approximately 311.69 with a deviation of about 1.53%.\n"
     ]
    }
   ],
   "source": [
    "messages = react_graph.invoke({\"messages\": messages})\n",
    "for m in messages['messages']:\n",
    "    m.pretty_print()"
   ]
  },
  {
   "cell_type": "code",
   "execution_count": 23,
   "id": "86e873ac-b4cc-4954-92a1-58d40317b2f8",
   "metadata": {},
   "outputs": [
    {
     "name": "stdout",
     "output_type": "stream",
     "text": [
      "==================================\u001b[1m Ai Message \u001b[0m==================================\n",
      "\n",
      "The configuration of WireMock that supports a throughput KPI of 307 within a 2.9 percent precision is as follows:\n",
      "\n",
      "- **Async Response Enabled**: 1 (true)\n",
      "- **Async Response Threads**: 10\n",
      "- **Connector Threads**: 206\n",
      "- **Jetty Accept Queue Size**: 1614\n",
      "- **Jetty Accept Threads**: 141\n",
      "- **Latency Target Size**: 10\n",
      "- **Number of Connections**: 32\n",
      "- **Timeout in Seconds**: 3\n",
      "\n",
      "This configuration predicts a throughput of approximately 311.69 with a deviation of about 1.53%.\n"
     ]
    }
   ],
   "source": [
    "messages[\"messages\"][-1].pretty_print()"
   ]
  },
  {
   "cell_type": "code",
   "execution_count": 26,
   "id": "b66edc10-4647-4dc9-a2b8-feb8fcbd9648",
   "metadata": {},
   "outputs": [],
   "source": [
    "messages=[HumanMessage(content=\"Find out the Prometheus service name and port number running in namespace demo. Use it to to plot all the prometheus metric data for the metric load_generator_total_msg starting 48 hours ago until now. You must calculate the two timestamps before retrieving the metrics. Return only the filename provided by the tool and nothing else.\")]\n",
    "#messages=[HumanMessage(content=\"Find out the Prometheus service name and port number running in namespace demo.\")]"
   ]
  },
  {
   "cell_type": "code",
   "execution_count": 27,
   "id": "e45b33be-d674-4e0f-bbc6-b3e3d8ca7bc0",
   "metadata": {},
   "outputs": [],
   "source": [
    "messages = react_graph.invoke({\"messages\": messages})"
   ]
  },
  {
   "cell_type": "code",
   "execution_count": 28,
   "id": "5e74b79f-aba9-4161-a1f1-add9bde5939f",
   "metadata": {},
   "outputs": [
    {
     "name": "stdout",
     "output_type": "stream",
     "text": [
      "================================\u001b[1m Human Message \u001b[0m=================================\n",
      "\n",
      "Find out the Prometheus service name and port number running in namespace demo. Use it to to plot all the prometheus metric data for the metric load_generator_total_msg starting 48 hours ago until now. You must calculate the two timestamps before retrieving the metrics. Return only the filename provided by the tool and nothing else.\n",
      "==================================\u001b[1m Ai Message \u001b[0m==================================\n",
      "Tool Calls:\n",
      "  tool_summarize_service_states (call_WMt0BJnY4281O5OoqEGn8y24)\n",
      " Call ID: call_WMt0BJnY4281O5OoqEGn8y24\n",
      "  Args:\n",
      "    namespace: demo\n",
      "=================================\u001b[1m Tool Message \u001b[0m=================================\n",
      "Name: tool_summarize_service_states\n",
      "\n",
      "{\"namespace\": \"demo\", \"svc_summary\": [{\"name\": \"influxdb\", \"ports\": [{\"port\": 8086, \"name\": \"No name available\", \"protocol\": \"TCP\"}], \"route\": \"unavailable\"}, {\"name\": \"load-generator\", \"ports\": [{\"port\": 9090, \"name\": \"metrics-app\", \"protocol\": \"TCP\"}, {\"port\": 9100, \"name\": \"metrics-node\", \"protocol\": \"TCP\"}], \"route\": \"unavailable\"}, {\"name\": \"prometheus-operated\", \"ports\": [{\"port\": 9090, \"name\": \"web\", \"protocol\": \"TCP\"}, {\"port\": 10901, \"name\": \"grpc\", \"protocol\": \"TCP\"}], \"route\": \"http://route-comparative-ptarmigan-demo.apps.cluster-nr48j.nr48j.sandbox1693.opentlc.com/\"}]}\n",
      "==================================\u001b[1m Ai Message \u001b[0m==================================\n",
      "Tool Calls:\n",
      "  tool_calculate_time_information (call_u6VGK6wfXauaGsXEnDByDAvf)\n",
      " Call ID: call_u6VGK6wfXauaGsXEnDByDAvf\n",
      "  Args:\n",
      "    time_value: now\n",
      "    time_metric: seconds\n",
      "    ago_flag: 0\n",
      "=================================\u001b[1m Tool Message \u001b[0m=================================\n",
      "Name: tool_calculate_time_information\n",
      "\n",
      "{\"timestamp\": 1758217613.578637, \"date_time_iso_format_string\": \"2025-09-18T13:46:53.578637-04:00\", \"timezone_string\": \"America/New_York\"}\n",
      "==================================\u001b[1m Ai Message \u001b[0m==================================\n",
      "Tool Calls:\n",
      "  tool_calculate_time_information (call_SOVTz7ncZV3hyVzyIxxpOl5R)\n",
      " Call ID: call_SOVTz7ncZV3hyVzyIxxpOl5R\n",
      "  Args:\n",
      "    time_value: 48\n",
      "    time_metric: hours\n",
      "    ago_flag: 1\n",
      "=================================\u001b[1m Tool Message \u001b[0m=================================\n",
      "Name: tool_calculate_time_information\n",
      "\n",
      "{\"timestamp\": 1758044816.656486, \"date_time_iso_format_string\": \"2025-09-16T13:46:56.656486-04:00\", \"timezone_string\": \"America/New_York\"}\n",
      "==================================\u001b[1m Ai Message \u001b[0m==================================\n",
      "Tool Calls:\n",
      "  tool_plot_prometheus_metric_data_range_as_file (call_GWBABFQQdiSPCSgwdTIrNQLp)\n",
      " Call ID: call_GWBABFQQdiSPCSgwdTIrNQLp\n",
      "  Args:\n",
      "    prom_service: prometheus-operated\n",
      "    prom_namespace: demo\n",
      "    prom_port: 9090\n",
      "    metric_name: load_generator_total_msg\n",
      "    metric_range_start: 1758044816.656486\n",
      "    metric_range_end: 1758217613.578637\n",
      "=================================\u001b[1m Tool Message \u001b[0m=================================\n",
      "Name: tool_plot_prometheus_metric_data_range_as_file\n",
      "\n",
      "{\"file_name\": \"FILE-plot-load_generator_total_msg-1758044816-1758217613.png\"}\n",
      "==================================\u001b[1m Ai Message \u001b[0m==================================\n",
      "\n",
      "FILE-plot-load_generator_total_msg-1758044816-1758217613.png\n"
     ]
    }
   ],
   "source": [
    "for m in messages['messages']:\n",
    "    m.pretty_print()"
   ]
  },
  {
   "cell_type": "code",
   "execution_count": 25,
   "id": "477801ff-1811-43ac-b2b3-00ba9fe28526",
   "metadata": {},
   "outputs": [
    {
     "name": "stdout",
     "output_type": "stream",
     "text": [
      "=================================\u001b[1m Tool Message \u001b[0m=================================\n",
      "Name: tool_plot_prometheus_metric_data_range_as_file\n",
      "\n",
      "{\"file_name\": \"FILE-plot-load_generator_total_msg-1758040279-1758213078.png\"}\n"
     ]
    }
   ],
   "source": [
    "messages[\"messages\"][-2].pretty_print()"
   ]
  },
  {
   "cell_type": "code",
   "execution_count": 28,
   "id": "ebd60aab-8bb1-4074-8768-0cd8a0ccaed3",
   "metadata": {},
   "outputs": [],
   "source": [
    "messages=[HumanMessage(content=\"I want a short step by step summary on how to create a Data Science Project in OpenShift AI\")]"
   ]
  },
  {
   "cell_type": "code",
   "execution_count": 29,
   "id": "bb5aa0cc-5fe8-4312-af1c-01a46ce81860",
   "metadata": {},
   "outputs": [],
   "source": [
    "messages = react_graph.invoke({\"messages\": messages})"
   ]
  },
  {
   "cell_type": "code",
   "execution_count": 30,
   "id": "f2c47b38-1223-41c4-b64e-f57712de649b",
   "metadata": {
    "scrolled": true
   },
   "outputs": [
    {
     "name": "stdout",
     "output_type": "stream",
     "text": [
      "================================\u001b[1m Human Message \u001b[0m=================================\n",
      "\n",
      "I want a short step by step summary on how to create a Data Science Project in OpenShift AI\n",
      "==================================\u001b[1m Ai Message \u001b[0m==================================\n",
      "Tool Calls:\n",
      "  openshift_ai_documentation_search_tool (call_SCOEuxn344wAu1DkIFk5WBDJ)\n",
      " Call ID: call_SCOEuxn344wAu1DkIFk5WBDJ\n",
      "  Args:\n",
      "    query: create a Data Science Project in OpenShift AI\n",
      "=================================\u001b[1m Tool Message \u001b[0m=================================\n",
      "Name: openshift_ai_documentation_search_tool\n",
      "\n",
      "CHAPTER 3. WORKING ON DATA SCIENCE PROJECTS\n",
      "As a data scientist, you can organize your data science work into a single project. A data science project\n",
      "in OpenShift AI can consist of the following components:\n",
      "Workbenches\n",
      "Creating a workbench allows you to add a Jupyter notebook to your project.\n",
      "Cluster storage\n",
      "For data science projects that require data to be retained, you can add cluster storage to the project.\n",
      "Data connections\n",
      "Adding a data connection to your project allows you to connect data inputs to your workbenches.\n",
      "Pipelines\n",
      "Standardize and automate machine learning workflows to enable you to further enhance and deploy\n",
      "your data science models.\n",
      "Models and model servers\n",
      "Deploy a trained data science model to serve intelligent applications. Your model is deployed with an\n",
      "endpoint that allows applications to send requests to the model.\n",
      "IMPORTANT\n",
      "If you create an OpenShift project outside of the OpenShift AI user interface, the project\n",
      "is not shown on the \n",
      "Data science projects\n",
      "\n",
      "CHAPTER 4. CREATING A DATA SCIENCE PROJECT\n",
      "To start your data science work, create a data science project. Creating a project helps you organize your\n",
      "work in one place. You can also enhance your data science project by adding the following functionality:\n",
      "Workbenches\n",
      "Storage for your project’s cluster\n",
      "Data connections\n",
      "Model servers\n",
      "Prerequisites\n",
      "You have logged in to Red Hat OpenShift AI.\n",
      "If you are using specialized OpenShift AI groups, you are part of the user group or admin group\n",
      "(for example, \n",
      "rhoai-users\n",
      " or \n",
      "rhoai-admins\n",
      " ) in OpenShift.\n",
      "Procedure\n",
      "1\n",
      ". \n",
      "From the OpenShift AI dashboard, click \n",
      "Data Science Projects\n",
      ".\n",
      "The \n",
      "Data science projects\n",
      " page opens.\n",
      "2\n",
      ". \n",
      "Click \n",
      "Create data science project\n",
      ".\n",
      "The \n",
      "Create a data science project\n",
      " dialog opens.\n",
      "3\n",
      ". \n",
      "Enter a \n",
      "name\n",
      " for your data science project.\n",
      "4\n",
      ". \n",
      "Optional: Edit the \n",
      "resource name\n",
      " for your data science project. The resource name must\n",
      "consist of lowercase alphanumeric characters, \n",
      "-\n",
      ", and must start and end with an alphanumeric\n",
      "character.\n",
      "5\n",
      ". \n",
      "Enter a\n",
      "\n",
      "Procedure\n",
      "1\n",
      ". \n",
      "From the OpenShift AI dashboard, click \n",
      "Data Science Projects\n",
      ".\n",
      "The \n",
      "Data science projects\n",
      " page opens.\n",
      "2\n",
      ". \n",
      "Click \n",
      "Create data science project\n",
      ".\n",
      "The \n",
      "Create a data science project\n",
      " dialog opens.\n",
      "3\n",
      ". \n",
      "Enter a \n",
      "name\n",
      " for your data science project.\n",
      "4\n",
      ". \n",
      "Optional: Edit the \n",
      "resource name\n",
      " for your data science project. The resource name must\n",
      "consist of lowercase alphanumeric characters, \n",
      "-\n",
      ", and must start and end with an alphanumeric\n",
      "character.\n",
      "5\n",
      ". \n",
      "Enter a \n",
      "description\n",
      " for your data science project.\n",
      "6\n",
      ". \n",
      "Click \n",
      "Create\n",
      ".\n",
      "A project details page opens. From this page, you can create workbenches, add cluster storage\n",
      "and data connections, import pipelines, and deploy models.\n",
      "Verification\n",
      "The project that you created is displayed on the \n",
      "Data science projects\n",
      " page.\n",
      "3.1.2. Updating a data science project\n",
      "You can update your data science project’s details by changing your project’s name and description text.\n",
      "Prerequisites\n",
      "You have logged in to Red Hat OpenShift AI.\n",
      "\n",
      "is not shown on the \n",
      "Data science projects\n",
      " page. In addition, you cannot use features\n",
      "exclusive to OpenShift AI, such as workbenches and model serving, with a standard\n",
      "OpenShift project.\n",
      "To classify your OpenShift project as a data science project, and to make available\n",
      "features exclusive to OpenShift AI, you must add the label \n",
      "opendatahub.io/dashboard:\n",
      " \n",
      "'true'\n",
      " to the project namespace. After you add this label, your project is subsequently\n",
      "shown on the \n",
      "Data science projects\n",
      " page.\n",
      "3.1. USING DATA SCIENCE PROJECTS\n",
      "3.1.1. Creating a data science project\n",
      "To start your data science work, create a data science project. Creating a project helps you organize your\n",
      "work in one place. You can also enhance your data science project by adding the following functionality:\n",
      "Workbenches\n",
      "Storage for your project’s cluster\n",
      "Data connections\n",
      "Model servers\n",
      "Prerequisites\n",
      "You have logged in to Red Hat OpenShift AI.\n",
      "If you are using specialized OpenShift AI groups, you are part of the user group or admin group\n",
      "(for example,\n",
      "==================================\u001b[1m Ai Message \u001b[0m==================================\n",
      "\n",
      "Here’s a short step-by-step summary on how to create a Data Science Project in OpenShift AI:\n",
      "\n",
      "1. **Log In**: Ensure you are logged into Red Hat OpenShift AI.\n",
      "\n",
      "2. **Access Data Science Projects**:\n",
      "   - From the OpenShift AI dashboard, click on **Data Science Projects**.\n",
      "\n",
      "3. **Create a New Project**:\n",
      "   - Click on **Create data science project**.\n",
      "\n",
      "4. **Enter Project Details**:\n",
      "   - Provide a **name** for your data science project.\n",
      "   - (Optional) Edit the **resource name** to consist of lowercase alphanumeric characters, dashes, and ensure it starts and ends with an alphanumeric character.\n",
      "   - Enter a **description** for your project.\n",
      "\n",
      "5. **Finalize Creation**:\n",
      "   - Click on **Create**. This will open the project details page.\n",
      "\n",
      "6. **Enhance Your Project**:\n",
      "   - From the project details page, you can create workbenches, add cluster storage, establish data connections, import pipelines, and deploy models.\n",
      "\n",
      "7. **Verification**:\n",
      "   - Ensure that your project appears on the **Data science projects** page.\n",
      "\n",
      "By following these steps, you can successfully create and manage a Data Science Project in OpenShift AI.\n"
     ]
    }
   ],
   "source": [
    "for m in messages['messages']:\n",
    "    m.pretty_print()"
   ]
  },
  {
   "cell_type": "code",
   "execution_count": 31,
   "id": "b7013a7e-3b9b-4bbb-927c-dd0177495a53",
   "metadata": {},
   "outputs": [
    {
     "name": "stdout",
     "output_type": "stream",
     "text": [
      "==================================\u001b[1m Ai Message \u001b[0m==================================\n",
      "\n",
      "Here’s a short step-by-step summary on how to create a Data Science Project in OpenShift AI:\n",
      "\n",
      "1. **Log In**: Ensure you are logged into Red Hat OpenShift AI.\n",
      "\n",
      "2. **Access Data Science Projects**:\n",
      "   - From the OpenShift AI dashboard, click on **Data Science Projects**.\n",
      "\n",
      "3. **Create a New Project**:\n",
      "   - Click on **Create data science project**.\n",
      "\n",
      "4. **Enter Project Details**:\n",
      "   - Provide a **name** for your data science project.\n",
      "   - (Optional) Edit the **resource name** to consist of lowercase alphanumeric characters, dashes, and ensure it starts and ends with an alphanumeric character.\n",
      "   - Enter a **description** for your project.\n",
      "\n",
      "5. **Finalize Creation**:\n",
      "   - Click on **Create**. This will open the project details page.\n",
      "\n",
      "6. **Enhance Your Project**:\n",
      "   - From the project details page, you can create workbenches, add cluster storage, establish data connections, import pipelines, and deploy models.\n",
      "\n",
      "7. **Verification**:\n",
      "   - Ensure that your project appears on the **Data science projects** page.\n",
      "\n",
      "By following these steps, you can successfully create and manage a Data Science Project in OpenShift AI.\n"
     ]
    }
   ],
   "source": [
    "messages[\"messages\"][-1].pretty_print()"
   ]
  },
  {
   "cell_type": "code",
   "execution_count": 32,
   "id": "e1a99995-4f7d-40be-a1e1-93fba873d2a4",
   "metadata": {},
   "outputs": [],
   "source": [
    "messages=[HumanMessage(content=\"Give me a summary of the running pods in namespace demo. Please include service and route information in the response.\")]"
   ]
  },
  {
   "cell_type": "code",
   "execution_count": 33,
   "id": "662b4370-f09f-43e8-b5e8-fc7e19f352a9",
   "metadata": {},
   "outputs": [],
   "source": [
    "messages = react_graph.invoke({\"messages\": messages})"
   ]
  },
  {
   "cell_type": "code",
   "execution_count": 34,
   "id": "f92bd02f-d3bc-4157-8151-e2cd8a4a18c0",
   "metadata": {},
   "outputs": [
    {
     "name": "stdout",
     "output_type": "stream",
     "text": [
      "================================\u001b[1m Human Message \u001b[0m=================================\n",
      "\n",
      "Give me a summary of the running pods in namespace demo. Please include service and route information in the response.\n",
      "==================================\u001b[1m Ai Message \u001b[0m==================================\n",
      "Tool Calls:\n",
      "  tool_summarize_pod_states (call_8xrq1ZaQBYefSMECYGRsZOuN)\n",
      " Call ID: call_8xrq1ZaQBYefSMECYGRsZOuN\n",
      "  Args:\n",
      "    namespace: demo\n",
      "=================================\u001b[1m Tool Message \u001b[0m=================================\n",
      "Name: tool_summarize_pod_states\n",
      "\n",
      "{\"namespace\": \"demo\", \"pod_states\": {\"Succeeded\": {\"count\": 242, \"running_pods\": []}, \"Running\": {\"count\": 3, \"running_pods\": [{\"name\": \"influxdb-8646648598-v24ft\", \"service\": {\"name\": \"influxdb\", \"ports\": [{\"port\": 8086, \"name\": \"No name\", \"protocol\": \"TCP\"}], \"route\": \"unavailable\"}}, {\"name\": \"prometheus-operator-5c99989bbf-g7kxq\", \"service\": {\"name\": \"unavailable\", \"ports\": [], \"route\": \"unavailable\"}}, {\"name\": \"prometheus-prometheus-demi-0\", \"service\": {\"name\": \"prometheus-operated\", \"ports\": [{\"port\": 9090, \"name\": \"web\", \"protocol\": \"TCP\"}, {\"port\": 10901, \"name\": \"grpc\", \"protocol\": \"TCP\"}], \"route\": \"http://route-comparative-ptarmigan-demo.apps.cluster-nr48j.nr48j.sandbox1693.opentlc.com/\"}}]}}}\n",
      "==================================\u001b[1m Ai Message \u001b[0m==================================\n",
      "Tool Calls:\n",
      "  tool_summarize_service_states (call_kzXNoTsKuXrpAIBex0gSSnif)\n",
      " Call ID: call_kzXNoTsKuXrpAIBex0gSSnif\n",
      "  Args:\n",
      "    namespace: demo\n",
      "=================================\u001b[1m Tool Message \u001b[0m=================================\n",
      "Name: tool_summarize_service_states\n",
      "\n",
      "{\"namespace\": \"demo\", \"svc_summary\": [{\"name\": \"influxdb\", \"ports\": [{\"port\": 8086, \"name\": \"No name available\", \"protocol\": \"TCP\"}], \"route\": \"unavailable\"}, {\"name\": \"load-generator\", \"ports\": [{\"port\": 9090, \"name\": \"metrics-app\", \"protocol\": \"TCP\"}, {\"port\": 9100, \"name\": \"metrics-node\", \"protocol\": \"TCP\"}], \"route\": \"unavailable\"}, {\"name\": \"prometheus-operated\", \"ports\": [{\"port\": 9090, \"name\": \"web\", \"protocol\": \"TCP\"}, {\"port\": 10901, \"name\": \"grpc\", \"protocol\": \"TCP\"}], \"route\": \"http://route-comparative-ptarmigan-demo.apps.cluster-nr48j.nr48j.sandbox1693.opentlc.com/\"}]}\n",
      "==================================\u001b[1m Ai Message \u001b[0m==================================\n",
      "\n",
      "### Summary of Running Pods in Namespace: **demo**\n",
      "\n",
      "#### Running Pods:\n",
      "1. **Pod Name:** influxdb-8646648598-v24ft\n",
      "   - **Service Name:** influxdb\n",
      "   - **Ports:** \n",
      "     - Port: 8086, Protocol: TCP\n",
      "   - **Route:** Unavailable\n",
      "\n",
      "2. **Pod Name:** prometheus-operator-5c99989bbf-g7kxq\n",
      "   - **Service Name:** Unavailable\n",
      "   - **Ports:** None\n",
      "   - **Route:** Unavailable\n",
      "\n",
      "3. **Pod Name:** prometheus-prometheus-demi-0\n",
      "   - **Service Name:** prometheus-operated\n",
      "   - **Ports:** \n",
      "     - Port: 9090, Protocol: TCP (web)\n",
      "     - Port: 10901, Protocol: TCP (grpc)\n",
      "   - **Route:** [http://route-comparative-ptarmigan-demo.apps.cluster-nr48j.nr48j.sandbox1693.opentlc.com/](http://route-comparative-ptarmigan-demo.apps.cluster-nr48j.nr48j.sandbox1693.opentlc.com/)\n",
      "\n",
      "#### Summary of Services:\n",
      "1. **Service Name:** influxdb\n",
      "   - **Ports:** \n",
      "     - Port: 8086, Protocol: TCP\n",
      "   - **Route:** Unavailable\n",
      "\n",
      "2. **Service Name:** load-generator\n",
      "   - **Ports:** \n",
      "     - Port: 9090, Protocol: TCP (metrics-app)\n",
      "     - Port: 9100, Protocol: TCP (metrics-node)\n",
      "   - **Route:** Unavailable\n",
      "\n",
      "3. **Service Name:** prometheus-operated\n",
      "   - **Ports:** \n",
      "     - Port: 9090, Protocol: TCP (web)\n",
      "     - Port: 10901, Protocol: TCP (grpc)\n",
      "   - **Route:** [http://route-comparative-ptarmigan-demo.apps.cluster-nr48j.nr48j.sandbox1693.opentlc.com/](http://route-comparative-ptarmigan-demo.apps.cluster-nr48j.nr48j.sandbox1693.opentlc.com/)\n",
      "\n",
      "### Summary:\n",
      "- There are **3 running pods** in the **demo** namespace.\n",
      "- The services associated with these pods have varying availability of routes, with some being unavailable.\n"
     ]
    }
   ],
   "source": [
    "for m in messages['messages']:\n",
    "    m.pretty_print()"
   ]
  },
  {
   "cell_type": "code",
   "execution_count": 35,
   "id": "d24a606d-3e57-42a0-a4fc-4b14ccde30cc",
   "metadata": {},
   "outputs": [
    {
     "name": "stdout",
     "output_type": "stream",
     "text": [
      "==================================\u001b[1m Ai Message \u001b[0m==================================\n",
      "\n",
      "### Summary of Running Pods in Namespace: **demo**\n",
      "\n",
      "#### Running Pods:\n",
      "1. **Pod Name:** influxdb-8646648598-v24ft\n",
      "   - **Service Name:** influxdb\n",
      "   - **Ports:** \n",
      "     - Port: 8086, Protocol: TCP\n",
      "   - **Route:** Unavailable\n",
      "\n",
      "2. **Pod Name:** prometheus-operator-5c99989bbf-g7kxq\n",
      "   - **Service Name:** Unavailable\n",
      "   - **Ports:** None\n",
      "   - **Route:** Unavailable\n",
      "\n",
      "3. **Pod Name:** prometheus-prometheus-demi-0\n",
      "   - **Service Name:** prometheus-operated\n",
      "   - **Ports:** \n",
      "     - Port: 9090, Protocol: TCP (web)\n",
      "     - Port: 10901, Protocol: TCP (grpc)\n",
      "   - **Route:** [http://route-comparative-ptarmigan-demo.apps.cluster-nr48j.nr48j.sandbox1693.opentlc.com/](http://route-comparative-ptarmigan-demo.apps.cluster-nr48j.nr48j.sandbox1693.opentlc.com/)\n",
      "\n",
      "#### Summary of Services:\n",
      "1. **Service Name:** influxdb\n",
      "   - **Ports:** \n",
      "     - Port: 8086, Protocol: TCP\n",
      "   - **Route:** Unavailable\n",
      "\n",
      "2. **Service Name:** load-generator\n",
      "   - **Ports:** \n",
      "     - Port: 9090, Protocol: TCP (metrics-app)\n",
      "     - Port: 9100, Protocol: TCP (metrics-node)\n",
      "   - **Route:** Unavailable\n",
      "\n",
      "3. **Service Name:** prometheus-operated\n",
      "   - **Ports:** \n",
      "     - Port: 9090, Protocol: TCP (web)\n",
      "     - Port: 10901, Protocol: TCP (grpc)\n",
      "   - **Route:** [http://route-comparative-ptarmigan-demo.apps.cluster-nr48j.nr48j.sandbox1693.opentlc.com/](http://route-comparative-ptarmigan-demo.apps.cluster-nr48j.nr48j.sandbox1693.opentlc.com/)\n",
      "\n",
      "### Summary:\n",
      "- There are **3 running pods** in the **demo** namespace.\n",
      "- The services associated with these pods have varying availability of routes, with some being unavailable.\n"
     ]
    }
   ],
   "source": [
    "messages[\"messages\"][-1].pretty_print()"
   ]
  },
  {
   "cell_type": "code",
   "execution_count": null,
   "id": "266fcf13-ea5b-4bca-bc35-922411956d68",
   "metadata": {},
   "outputs": [],
   "source": []
  }
 ],
 "metadata": {
  "kernelspec": {
   "display_name": "Python 3.11",
   "language": "python",
   "name": "python3"
  },
  "language_info": {
   "codemirror_mode": {
    "name": "ipython",
    "version": 3
   },
   "file_extension": ".py",
   "mimetype": "text/x-python",
   "name": "python",
   "nbconvert_exporter": "python",
   "pygments_lexer": "ipython3",
   "version": "3.11.11"
  }
 },
 "nbformat": 4,
 "nbformat_minor": 5
}
