{
 "cells": [
  {
   "cell_type": "code",
   "execution_count": null,
   "id": "4db860bc-d207-4330-a677-8b6ed68d8c67",
   "metadata": {
    "tags": []
   },
   "outputs": [],
   "source": [
    "#The below versions are required to run the AIOps notebook with ReAct prompt from langchain/hub"
   ]
  },
  {
   "cell_type": "code",
   "execution_count": null,
   "id": "74d99ce1-5700-4c4f-a617-18b242ea21d4",
   "metadata": {
    "tags": []
   },
   "outputs": [],
   "source": [
    "#!pip install -q langchain==\"0.2.12\" langchain-core==\"0.2.29\" langchain-community==\"0.2.11\" langchainhub openai langchain-openai pydantic prometheus_api_client pyOpenSSL"
   ]
  },
  {
   "cell_type": "code",
   "execution_count": null,
   "id": "6276e2de-df0f-4bce-a1fe-0b1750183ece",
   "metadata": {
    "tags": []
   },
   "outputs": [],
   "source": [
    "#!pip -q install -U langchain-huggingface==\"0.0.3\" langchain-milvus==\"0.1.4\""
   ]
  },
  {
   "cell_type": "code",
   "execution_count": null,
   "id": "6142308b-0d6f-4617-8437-26a7f47068e1",
   "metadata": {
    "tags": []
   },
   "outputs": [],
   "source": [
    "#!pip install pydantic==1.10.15"
   ]
  },
  {
   "cell_type": "code",
   "execution_count": null,
   "id": "2f5e6586-657e-4801-b1a7-b2783c26024c",
   "metadata": {
    "tags": []
   },
   "outputs": [],
   "source": [
    "#!pip install pyOpenSSL==\"24.1.0\""
   ]
  },
  {
   "cell_type": "code",
   "execution_count": 1,
   "id": "a314dcc5-4ee3-4029-b7d8-f8b6f8242e89",
   "metadata": {},
   "outputs": [
    {
     "name": "stdout",
     "output_type": "stream",
     "text": [
      "\u001b[31mERROR: pip's dependency resolver does not currently take into account all the packages that are installed. This behaviour is the source of the following dependency conflicts.\n",
      "appengine-python-standard 1.1.10 requires urllib3<2,>=1.26.2, but you have urllib3 2.5.0 which is incompatible.\n",
      "codeflare-sdk 0.29.0 requires cryptography==43.0.3, but you have cryptography 46.0.1 which is incompatible.\n",
      "codeflare-sdk 0.29.0 requires pydantic<2, but you have pydantic 2.11.9 which is incompatible.\n",
      "kfp 2.12.2 requires protobuf<5,>=4.21.1, but you have protobuf 6.32.1 which is incompatible.\n",
      "kfp 2.12.2 requires urllib3<2.0.0, but you have urllib3 2.5.0 which is incompatible.\n",
      "kfp-kubernetes 1.5.0 requires protobuf<5,>=4.21.1, but you have protobuf 6.32.1 which is incompatible.\n",
      "kfp-pipeline-spec 0.6.0 requires protobuf<5,>=4.21.1, but you have protobuf 6.32.1 which is incompatible.\u001b[0m\u001b[31m\n",
      "\u001b[0m\n",
      "\u001b[1m[\u001b[0m\u001b[34;49mnotice\u001b[0m\u001b[1;39;49m]\u001b[0m\u001b[39;49m A new release of pip is available: \u001b[0m\u001b[31;49m24.2\u001b[0m\u001b[39;49m -> \u001b[0m\u001b[32;49m25.2\u001b[0m\n",
      "\u001b[1m[\u001b[0m\u001b[34;49mnotice\u001b[0m\u001b[1;39;49m]\u001b[0m\u001b[39;49m To update, run: \u001b[0m\u001b[32;49mpip install --upgrade pip\u001b[0m\n",
      "Note: you may need to restart the kernel to use updated packages.\n"
     ]
    }
   ],
   "source": [
    "pip install -q langchain langchain-core langchain-community langchainhub openai langchain-openai pydantic prometheus_api_client pyOpenSSL langchain-huggingface langchain-milvus langgraph"
   ]
  },
  {
   "cell_type": "code",
   "execution_count": 2,
   "id": "c1fa2703-c85e-47bc-8173-47e958fd4459",
   "metadata": {},
   "outputs": [
    {
     "name": "stdout",
     "output_type": "stream",
     "text": [
      "\n",
      "\u001b[1m[\u001b[0m\u001b[34;49mnotice\u001b[0m\u001b[1;39;49m]\u001b[0m\u001b[39;49m A new release of pip is available: \u001b[0m\u001b[31;49m24.2\u001b[0m\u001b[39;49m -> \u001b[0m\u001b[32;49m25.2\u001b[0m\n",
      "\u001b[1m[\u001b[0m\u001b[34;49mnotice\u001b[0m\u001b[1;39;49m]\u001b[0m\u001b[39;49m To update, run: \u001b[0m\u001b[32;49mpip install --upgrade pip\u001b[0m\n",
      "Note: you may need to restart the kernel to use updated packages.\n"
     ]
    }
   ],
   "source": [
    "pip install -q sentence-transformers"
   ]
  },
  {
   "cell_type": "code",
   "execution_count": null,
   "id": "a36b3b0c-646b-4b60-b74b-268986edc99d",
   "metadata": {},
   "outputs": [],
   "source": []
  }
 ],
 "metadata": {
  "kernelspec": {
   "display_name": "Python 3.11",
   "language": "python",
   "name": "python3"
  },
  "language_info": {
   "codemirror_mode": {
    "name": "ipython",
    "version": 3
   },
   "file_extension": ".py",
   "mimetype": "text/x-python",
   "name": "python",
   "nbconvert_exporter": "python",
   "pygments_lexer": "ipython3",
   "version": "3.11.11"
  }
 },
 "nbformat": 4,
 "nbformat_minor": 5
}
